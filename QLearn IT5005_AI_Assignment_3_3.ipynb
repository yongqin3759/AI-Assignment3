{
  "cells": [
    {
      "cell_type": "markdown",
      "metadata": {
        "id": "l5fuj3bc-U6r"
      },
      "source": [
        "# Assignment 3 - Reinforcement Learning"
      ]
    },
    {
      "cell_type": "markdown",
      "metadata": {
        "id": "9jwA-q1B-U6u"
      },
      "source": [
        "## GridWorlds\n",
        "\n",
        "This assignment involves finding optimal policies for two grid worlds (CliffWalking and WindyGridWorld) using SARSA and Q learning. Details about WindyGridWorld (Example 6.5) and CliffWalking (Example 6.6) can be found in the following link.\n",
        "    \n",
        "    http://incompleteideas.net/book/RLbook2020.pdf\n",
        "\n",
        "\n",
        "You need gym (version 0.18) and numpy (version 1.20.1) for this assignment. The environment for both problems are provided. \n",
        "\n",
        "For Windy Grid World environemnt you also need the file 'WindyGridWorld.py'. \n",
        "\n",
        "### Task 1: Learning [5 Marks]\n",
        "\n",
        "You only need to write the codes for SARSA and Q-learning algorithms. Then do the learning in both 'CliffWalking' and 'Windy Grid World' environments. \n",
        "\n",
        "### Task 2: Analysis [5 Marks]   \n",
        "\n",
        "1. Calculate the average return across the episodes. It gives you a measure of the performance of the algorithm while learning.  \n",
        "\n",
        "2. Calculate the return after convergence. It gives you a measure of the performance after the learning is completed. \n",
        "\n",
        "3. What do you observe from these results?"
      ]
    },
    {
      "cell_type": "markdown",
      "metadata": {
        "id": "NYhZ5Mfc-U6v"
      },
      "source": [
        "Install the necessary packages"
      ]
    },
    {
      "cell_type": "code",
      "execution_count": 6,
      "metadata": {
        "colab": {
          "base_uri": "https://localhost:8080/"
        },
        "id": "eNcED6Wl-U6v",
        "outputId": "9e8ac628-0218-41e7-c38c-f6ae086217b8"
      },
      "outputs": [
        {
          "name": "stdout",
          "output_type": "stream",
          "text": [
            "Defaulting to user installation because normal site-packages is not writeable\n",
            "Requirement already satisfied: gym==0.18 in c:\\tools\\anaconda3\\envs\\it5005\\lib\\site-packages (0.18.0)\n",
            "Requirement already satisfied: pyglet<=1.5.0,>=1.4.0 in c:\\tools\\anaconda3\\envs\\it5005\\lib\\site-packages (from gym==0.18) (1.5.0)\n",
            "Requirement already satisfied: numpy>=1.10.4 in c:\\users\\e0833561\\appdata\\roaming\\python\\python38\\site-packages (from gym==0.18) (1.20.1)\n",
            "Requirement already satisfied: scipy in c:\\tools\\anaconda3\\envs\\it5005\\lib\\site-packages (from gym==0.18) (1.9.3)\n",
            "Requirement already satisfied: cloudpickle<1.7.0,>=1.2.0 in c:\\tools\\anaconda3\\envs\\it5005\\lib\\site-packages (from gym==0.18) (1.6.0)\n",
            "Requirement already satisfied: Pillow<=7.2.0 in c:\\tools\\anaconda3\\envs\\it5005\\lib\\site-packages (from gym==0.18) (7.2.0)\n",
            "Requirement already satisfied: future in c:\\tools\\anaconda3\\envs\\it5005\\lib\\site-packages (from pyglet<=1.5.0,>=1.4.0->gym==0.18) (0.18.2)\n",
            "Defaulting to user installation because normal site-packages is not writeable\n",
            "Requirement already satisfied: numpy==1.20.1 in c:\\users\\e0833561\\appdata\\roaming\\python\\python38\\site-packages (1.20.1)\n",
            "Defaulting to user installation because normal site-packages is not writeable\n",
            "Requirement already satisfied: tqdm in c:\\users\\e0833561\\appdata\\roaming\\python\\python38\\site-packages (4.64.1)\n",
            "Requirement already satisfied: colorama in c:\\tools\\anaconda3\\envs\\it5005\\lib\\site-packages (from tqdm) (0.4.5)\n"
          ]
        }
      ],
      "source": [
        "!pip install gym==0.18\n",
        "!pip install numpy==1.20.1\n",
        "!pip install tqdm "
      ]
    },
    {
      "cell_type": "markdown",
      "metadata": {
        "id": "TYeXJEip-U6w"
      },
      "source": [
        "# Task 1: Learning\n",
        "## Task 1a: Learning in CliffWalking Environment"
      ]
    },
    {
      "cell_type": "markdown",
      "metadata": {
        "id": "uLFhiA86-U6w"
      },
      "source": [
        "### Environment for CliffWalking\n",
        "\n",
        "The board is a 4x12 matrix, with (using NumPy matrix indexing):\n",
        "    [3, 0] as the start at bottom-left\n",
        "    [3, 11] as the goal at bottom-right\n",
        "    [3, 1..10] as the cliff at bottom-center\n",
        "\n",
        "Each time step incurs -1 reward, and stepping into the cliff incurs -100 reward\n",
        "and a reset to the start. If an action would take you off the grid, you remain in the previous state.\n",
        "An episode terminates when the agent reaches the goal.\n"
      ]
    },
    {
      "cell_type": "code",
      "execution_count": 1,
      "metadata": {
        "colab": {
          "base_uri": "https://localhost:8080/"
        },
        "id": "51k5bDhU-U6w",
        "outputId": "a0b21e3c-5e7c-4a25-efd7-d0918851474c"
      },
      "outputs": [
        {
          "name": "stdout",
          "output_type": "stream",
          "text": [
            "o  o  o  o  o  o  o  o  o  o  o  o\n",
            "o  o  o  o  o  o  o  o  o  o  o  o\n",
            "o  o  o  o  o  o  o  o  o  o  o  o\n",
            "x  C  C  C  C  C  C  C  C  C  C  T\n",
            "\n"
          ]
        }
      ],
      "source": [
        "%matplotlib inline\n",
        "\n",
        "import matplotlib.pyplot as plt\n",
        "import gym\n",
        "import numpy as np\n",
        "from tqdm import tqdm \n",
        "\n",
        "env = gym.make('CliffWalking-v0') # Create the environment #render_mode=\"human\"  human, ansi, \n",
        "env.reset() # reset environment to a new, random state\n",
        "env.render() # Renders the environment for visualization"
      ]
    },
    {
      "cell_type": "markdown",
      "metadata": {
        "id": "X4A_vwCj-U6x"
      },
      "source": [
        "Here _x_ is the location of the agent, *o* are possible places to go to, *C* is the cliff, and *T* is the target."
      ]
    },
    {
      "cell_type": "code",
      "execution_count": 2,
      "metadata": {
        "colab": {
          "base_uri": "https://localhost:8080/"
        },
        "id": "WBsK1JJx-U6x",
        "outputId": "7954e644-f544-442c-e64b-2b39ca33c824"
      },
      "outputs": [
        {
          "name": "stdout",
          "output_type": "stream",
          "text": [
            "Number of actions:  4\n",
            "Number of states:  48\n"
          ]
        }
      ],
      "source": [
        "num_actions = env.action_space.n \n",
        "num_states = env.observation_space.n \n",
        "\n",
        "print(\"Number of actions: \", num_actions)\n",
        "print(\"Number of states: \", num_states)"
      ]
    },
    {
      "cell_type": "code",
      "execution_count": 3,
      "metadata": {
        "colab": {
          "base_uri": "https://localhost:8080/"
        },
        "id": "bSzMUK7Z-U6x",
        "outputId": "67c28bf8-90fa-4ef6-e435-0630a40e176e"
      },
      "outputs": [
        {
          "name": "stdout",
          "output_type": "stream",
          "text": [
            "o  o  o  o  o  o  o  o  o  o  o  o\n",
            "o  o  o  o  o  o  o  o  o  o  o  o\n",
            "x  o  o  o  o  o  o  o  o  o  o  o\n",
            "o  C  C  C  C  C  C  C  C  C  C  T\n",
            "\n"
          ]
        }
      ],
      "source": [
        "action = 0 # Move up\n",
        "a = env.step(action) # This is the function we use to interact with the environment\n",
        "env.render() # Renders the environment for visualization"
      ]
    },
    {
      "cell_type": "code",
      "execution_count": 4,
      "metadata": {
        "colab": {
          "base_uri": "https://localhost:8080/"
        },
        "id": "DalxfEmo-U6y",
        "outputId": "16c2bb52-8054-4c0b-a73f-88e1c2c0ec09"
      },
      "outputs": [
        {
          "name": "stdout",
          "output_type": "stream",
          "text": [
            "Action:  0\n",
            "Next state:  24\n",
            "Reward:  -1\n",
            "Done:  False\n",
            "o  o  o  o  o  o  o  o  o  o  o  o\n",
            "o  o  o  o  o  o  o  o  o  o  o  o\n",
            "x  o  o  o  o  o  o  o  o  o  o  o\n",
            "o  C  C  C  C  C  C  C  C  C  C  T\n",
            "\n",
            "Action:  1\n",
            "Next state:  25\n",
            "Reward:  -1\n",
            "Done:  False\n",
            "o  o  o  o  o  o  o  o  o  o  o  o\n",
            "o  o  o  o  o  o  o  o  o  o  o  o\n",
            "o  x  o  o  o  o  o  o  o  o  o  o\n",
            "o  C  C  C  C  C  C  C  C  C  C  T\n",
            "\n",
            "Action:  2\n",
            "Next state:  36\n",
            "Reward:  -100\n",
            "Done:  False\n",
            "o  o  o  o  o  o  o  o  o  o  o  o\n",
            "o  o  o  o  o  o  o  o  o  o  o  o\n",
            "o  o  o  o  o  o  o  o  o  o  o  o\n",
            "x  C  C  C  C  C  C  C  C  C  C  T\n",
            "\n",
            "Action:  3\n",
            "Next state:  36\n",
            "Reward:  -1\n",
            "Done:  False\n",
            "o  o  o  o  o  o  o  o  o  o  o  o\n",
            "o  o  o  o  o  o  o  o  o  o  o  o\n",
            "o  o  o  o  o  o  o  o  o  o  o  o\n",
            "x  C  C  C  C  C  C  C  C  C  C  T\n",
            "\n"
          ]
        },
        {
          "data": {
            "text/plain": [
              "36"
            ]
          },
          "execution_count": 4,
          "metadata": {},
          "output_type": "execute_result"
        }
      ],
      "source": [
        "# 0 -> UP, 1 -> RIGHT, 2 -> DOWN, 3 -> LEFT\n",
        "env.reset()\n",
        "import time\n",
        "for action in [0, 1, 2, 3]:\n",
        "    print(\"Action: \", action)\n",
        "    time.sleep(1)\n",
        "    next_state, reward, is_done, info = env.step(action)     # next_state, reward, is_done, info\n",
        "    print(\"Next state: \", next_state)\n",
        "    print(\"Reward: \", reward)\n",
        "    print(\"Done: \",is_done)\n",
        "    env.render()\n",
        "env.reset()"
      ]
    },
    {
      "cell_type": "markdown",
      "metadata": {
        "id": "gAL4YvAF-U6y"
      },
      "source": [
        "As you can see above, each non-terminal action has a reward of -1. 0 -> UP, 1 -> RIGHT, 2 -> DOWN, 3 -> LEFT. The moment the agent falls off the cliff the reward becomes -100 and the agent resets to the start."
      ]
    },
    {
      "cell_type": "code",
      "execution_count": 38,
      "metadata": {
        "id": "0BCsSRrH-U6y"
      },
      "outputs": [],
      "source": [
        "# Initialize values \n",
        "# num_episodes = 10000\n",
        "num_episodes = 1000\n",
        "lr = 0.1\n",
        "# epsilon = 1\n",
        "epsilon = 0.1\n",
        "max_steps_per_episode = 100"
      ]
    },
    {
      "cell_type": "code",
      "execution_count": 6,
      "metadata": {
        "colab": {
          "base_uri": "https://localhost:8080/"
        },
        "id": "3sy8_qjk-U6y",
        "outputId": "5641a7f3-4c1b-43af-a57a-153810c35246"
      },
      "outputs": [
        {
          "name": "stdout",
          "output_type": "stream",
          "text": [
            "[[0. 0. 0. 0.]\n",
            " [0. 0. 0. 0.]\n",
            " [0. 0. 0. 0.]\n",
            " [0. 0. 0. 0.]\n",
            " [0. 0. 0. 0.]\n",
            " [0. 0. 0. 0.]\n",
            " [0. 0. 0. 0.]\n",
            " [0. 0. 0. 0.]\n",
            " [0. 0. 0. 0.]\n",
            " [0. 0. 0. 0.]\n",
            " [0. 0. 0. 0.]\n",
            " [0. 0. 0. 0.]\n",
            " [0. 0. 0. 0.]\n",
            " [0. 0. 0. 0.]\n",
            " [0. 0. 0. 0.]\n",
            " [0. 0. 0. 0.]\n",
            " [0. 0. 0. 0.]\n",
            " [0. 0. 0. 0.]\n",
            " [0. 0. 0. 0.]\n",
            " [0. 0. 0. 0.]\n",
            " [0. 0. 0. 0.]\n",
            " [0. 0. 0. 0.]\n",
            " [0. 0. 0. 0.]\n",
            " [0. 0. 0. 0.]\n",
            " [0. 0. 0. 0.]\n",
            " [0. 0. 0. 0.]\n",
            " [0. 0. 0. 0.]\n",
            " [0. 0. 0. 0.]\n",
            " [0. 0. 0. 0.]\n",
            " [0. 0. 0. 0.]\n",
            " [0. 0. 0. 0.]\n",
            " [0. 0. 0. 0.]\n",
            " [0. 0. 0. 0.]\n",
            " [0. 0. 0. 0.]\n",
            " [0. 0. 0. 0.]\n",
            " [0. 0. 0. 0.]\n",
            " [0. 0. 0. 0.]\n",
            " [0. 0. 0. 0.]\n",
            " [0. 0. 0. 0.]\n",
            " [0. 0. 0. 0.]\n",
            " [0. 0. 0. 0.]\n",
            " [0. 0. 0. 0.]\n",
            " [0. 0. 0. 0.]\n",
            " [0. 0. 0. 0.]\n",
            " [0. 0. 0. 0.]\n",
            " [0. 0. 0. 0.]\n",
            " [0. 0. 0. 0.]\n",
            " [0. 0. 0. 0.]]\n"
          ]
        }
      ],
      "source": [
        "import random\n",
        "# Initialize Q function - a simplified version is used here \n",
        "# in reality the number of states may be unknown and all states may not be reachable \n",
        "\n",
        "# hint: use num_states as the key to a dictionary of lists\n",
        "Q = np.zeros((num_states, num_actions))\n",
        "\n",
        "print(Q)"
      ]
    },
    {
      "cell_type": "code",
      "execution_count": 18,
      "metadata": {
        "id": "WPKx8d8o-U6y"
      },
      "outputs": [],
      "source": [
        "def behavioral_policy(state, Q, num_actions, epsilon):\n",
        "    # Implement the epsilon-greedy policy\n",
        "    # Don't forget the epsilon-greedy idea\n",
        "    if random.uniform(0,1) > epsilon:\n",
        "        return np.argmax(Q[state,:])\n",
        "    # return random.choice(np.arange(env.action_space.n))\n",
        "    return random.choice(np.arange(num_actions))\n",
        "    "
      ]
    },
    {
      "cell_type": "code",
      "execution_count": 20,
      "metadata": {
        "colab": {
          "base_uri": "https://localhost:8080/"
        },
        "id": "H5gsgwjy-U6y",
        "outputId": "1d597457-ca30-46e9-9fc0-6aa856faaa58"
      },
      "outputs": [
        {
          "name": "stdout",
          "output_type": "stream",
          "text": [
            "0\n",
            "0\n",
            "1\n",
            "2\n",
            "1\n",
            "1\n",
            "3\n",
            "1\n",
            "2\n",
            "3\n"
          ]
        }
      ],
      "source": [
        "# You can use this to check if your algorithm is correct\n",
        "for i in range(10):\n",
        "    print(behavioral_policy(0, Q, num_actions, 0.8))"
      ]
    },
    {
      "cell_type": "markdown",
      "metadata": {
        "id": "M_M8EVue-U6z"
      },
      "source": [
        "### SARSA Learning "
      ]
    },
    {
      "cell_type": "code",
      "execution_count": 36,
      "metadata": {
        "id": "k4HhH0zf-U6z"
      },
      "outputs": [],
      "source": [
        "def sarsa(env, Q, num_actions, num_episodes, epsilon, lr):\n",
        "    # Given to students\n",
        "    episode_length = [0] * num_episodes\n",
        "    total_reward_episode = [0] * num_episodes\n",
        "    discount_rate = 1\n",
        "    \n",
        "\n",
        "    for episode in tqdm(range(num_episodes)):\n",
        "        state = env.reset()\n",
        "        is_done = False\n",
        "\n",
        "        # Implement SARSA\n",
        "        \n",
        "        while not is_done:\n",
        "\n",
        "            action = behavioral_policy(state, Q, num_actions, epsilon)\n",
        "            next_state, reward, is_done, info = env.step(action)\n",
        "            next_action = behavioral_policy(next_state, Q, num_actions, epsilon)\n",
        "            Q[state, action] = Q[state, action] + lr * ( reward + discount_rate * Q[ next_state, next_action ] - Q[ state, action ] )\n",
        "            state = next_state\n",
        "            episode_length[episode] += 1\n",
        "            total_reward_episode[episode] += reward\n",
        "    \n",
        "    # Write code here as well\n",
        "    # Hint: use np.argmax\n",
        "    policy = [\n",
        "        np.argmax(Q[state, :]) \\\n",
        "            for state in range(env.observation_space.n)\n",
        "    ]\n",
        "\n",
        "\n",
        "    return Q, policy, {\"rewards\": total_reward_episode, \"length\": episode_length}"
      ]
    },
    {
      "cell_type": "code",
      "execution_count": 40,
      "metadata": {
        "colab": {
          "base_uri": "https://localhost:8080/",
          "height": 339
        },
        "id": "5Icyzo8v-U6z",
        "outputId": "84fcf06b-cfcb-456d-8c63-6e9ed8eec033"
      },
      "outputs": [
        {
          "name": "stderr",
          "output_type": "stream",
          "text": [
            "100%|██████████| 1000/1000 [00:00<00:00, 4819.38it/s]"
          ]
        },
        {
          "name": "stdout",
          "output_type": "stream",
          "text": [
            "\n",
            "GridWorld SARSA Optimal policy: \n",
            "\n",
            "[[1 1 1 1 1 1 1 1 1 1 1 2]\n",
            " [0 0 3 1 1 0 1 1 1 1 1 2]\n",
            " [0 2 0 0 0 0 0 0 0 1 1 2]\n",
            " [0 0 0 0 0 0 0 0 0 0 0 0]]\n"
          ]
        },
        {
          "name": "stderr",
          "output_type": "stream",
          "text": [
            "\n"
          ]
        }
      ],
      "source": [
        "# Run SARSA\n",
        "optimal_sarsa_Q, sarsa_optimal_policy, sarsa_info = sarsa(env, Q, num_actions, num_episodes, epsilon, lr)\n",
        "print(\"\\nGridWorld SARSA Optimal policy: \\n\")\n",
        "print(np.array(sarsa_optimal_policy).reshape((4, 12)))"
      ]
    },
    {
      "cell_type": "markdown",
      "metadata": {
        "id": "I7ihApKW-U6z"
      },
      "source": [
        "### Q-Learning"
      ]
    },
    {
      "cell_type": "code",
      "execution_count": 44,
      "metadata": {
        "id": "ttAoHrTD-U6z"
      },
      "outputs": [],
      "source": [
        "num_episodes = 10000\n",
        "lr = 0.2\n",
        "epsilon = 1\n",
        "max_steps_per_episode = 100\n",
        "\n",
        "def q_learning(env, Q, num_actions, num_episodes, epsilon, lr):\n",
        "    # Given to students\n",
        "    episode_length = [0] * num_episodes\n",
        "    total_reward_episode = [0] * num_episodes\n",
        "    discount_rate = 0.99\n",
        "    exploration_rate = 1\n",
        "\n",
        "    for episode in tqdm(range(num_episodes)):\n",
        "        state = env.reset()\n",
        "        is_done = False\n",
        "        # Implemnt Q-Learning\n",
        "\n",
        "        \n",
        "        while not is_done and episode_length[episode] < max_steps_per_episode and total_reward_episode[episode] > -100:\n",
        "            action = behavioral_policy(state, Q, num_actions, epsilon)\n",
        "            \n",
        "            new_state, reward, is_done, info = env.step(action)\n",
        "\n",
        "            Q[state, action] = Q[state, action] * (1 - lr) + lr * (reward + discount_rate * np.max(Q[new_state, :]))\n",
        "            state = new_state\n",
        "            total_reward_episode[episode] += reward\n",
        "            episode_length[episode] += 1\n",
        "        \n",
        "        epsilon = 0.01 + (1 - 0.01)*np.exp(-0.1*episode_length[episode])\n",
        "            \n",
        "    policy = [np.argmax(Q[key,:]) for key in range(num_states)]\n",
        "    # Write the code here\n",
        "\n",
        "    return Q, policy, {\"rewards\": total_reward_episode, \"length\": episode_length}"
      ]
    },
    {
      "cell_type": "code",
      "execution_count": 45,
      "metadata": {
        "colab": {
          "base_uri": "https://localhost:8080/"
        },
        "id": "jlr7cdEr-U6z",
        "outputId": "cfb98df5-7c45-4b16-c589-9c589a85ddcf"
      },
      "outputs": [
        {
          "name": "stderr",
          "output_type": "stream",
          "text": [
            "100%|██████████| 10000/10000 [00:01<00:00, 5125.43it/s]"
          ]
        },
        {
          "name": "stdout",
          "output_type": "stream",
          "text": [
            "\n",
            "GridWorld Q-Learning Optimal policy: \n",
            " [[ -13.99416454  -13.12541872  -13.12541873  -13.99416454]\n",
            " [ -13.12541872  -12.2478977   -12.2478977   -13.99416454]\n",
            " [ -12.2478977   -11.36151283  -11.36151283  -13.12541872]\n",
            " [ -11.36151283  -10.46617457  -10.46617457  -12.2478977 ]\n",
            " [ -10.46617457   -9.5617925    -9.5617925   -11.36151283]\n",
            " [  -9.5617925    -8.64827525   -8.64827525  -10.46617457]\n",
            " [  -8.64827525   -7.72553056   -7.72553056   -9.5617925 ]\n",
            " [  -7.72553056   -6.79346521   -6.79346521   -8.64827525]\n",
            " [  -6.79346521   -5.85198506   -5.85198506   -7.72553056]\n",
            " [  -5.85198506   -4.90099501   -4.90099501   -6.79346521]\n",
            " [  -4.90099501   -3.940399     -3.940399     -5.85198506]\n",
            " [  -3.940399     -3.940399     -2.9701       -4.90099501]\n",
            " [ -13.99416454  -12.2478977   -13.99416454  -13.12541872]\n",
            " [ -13.12541872  -11.36151283  -13.12541872  -13.12541872]\n",
            " [ -12.2478977   -10.46617457  -12.2478977   -12.2478977 ]\n",
            " [ -11.36151283   -9.5617925   -11.36930182  -11.36151283]\n",
            " [ -10.46617457   -8.64827525  -10.46617457  -10.46617457]\n",
            " [  -9.5617925    -7.72553056   -9.5617925    -9.5617925 ]\n",
            " [  -8.64827525   -6.79346521  -10.46617457   -8.64827525]\n",
            " [  -7.72553056   -5.85198506   -7.72553056   -7.72553056]\n",
            " [  -6.79346521   -4.90099501   -6.79346521   -6.79346521]\n",
            " [  -5.85198506   -3.940399     -3.940399     -5.85198506]\n",
            " [  -4.90099501   -2.9701       -2.9701       -4.90099501]\n",
            " [  -3.940399     -2.9701       -1.99         -3.940399  ]\n",
            " [ -13.12541872  -13.12541872  -14.85422289  -13.99416454]\n",
            " [ -12.2478977   -12.24790729 -113.85422289  -13.99416454]\n",
            " [ -11.36151283  -12.04327045 -113.85518777  -13.12541872]\n",
            " [ -10.46723371  -12.23187289 -113.85422289  -12.24789817]\n",
            " [ -11.07389836   -9.5617925  -114.25128802  -40.46180885]\n",
            " [  -8.64827525  -10.48147362 -114.10874295  -10.49195849]\n",
            " [ -13.03432249  -48.80450431 -131.45516634   -9.5617925 ]\n",
            " [  -6.79346521 -105.6982727  -218.60519926  -60.5583696 ]\n",
            " [  -5.85198506  -95.08194388 -197.63334702 -418.5163217 ]\n",
            " [-402.18774769   -2.9701     -233.6811598  -135.74281939]\n",
            " [  -3.99234734   -1.99       -114.04092852   -4.03793562]\n",
            " [  -2.9701       -1.99         -1.           -2.9701    ]\n",
            " [ -13.99416454 -113.85422289  -14.85422289  -14.85422289]\n",
            " [   0.            0.            0.            0.        ]\n",
            " [   0.            0.            0.            0.        ]\n",
            " [   0.            0.            0.            0.        ]\n",
            " [   0.            0.            0.            0.        ]\n",
            " [   0.            0.            0.            0.        ]\n",
            " [   0.            0.            0.            0.        ]\n",
            " [   0.            0.            0.            0.        ]\n",
            " [   0.            0.            0.            0.        ]\n",
            " [   0.            0.            0.            0.        ]\n",
            " [   0.            0.            0.            0.        ]\n",
            " [   0.            0.            0.            0.        ]]\n",
            "\n",
            "Estimated Optimal Policy (UP = 0, RIGHT = 1, DOWN = 2, LEFT = 3, N/A = -1):\n",
            "[[1 1 1 1 1 1 1 1 1 1 1 2]\n",
            " [1 1 1 1 1 1 1 1 1 1 1 2]\n",
            " [0 0 0 0 1 0 3 0 0 1 1 2]\n",
            " [0 0 0 0 0 0 0 0 0 0 0 0]]\n"
          ]
        },
        {
          "name": "stderr",
          "output_type": "stream",
          "text": [
            "\n"
          ]
        }
      ],
      "source": [
        "# Run Q-Learning \n",
        "optimal_Q, q_optimal_policy, q_info = q_learning(env, Q, num_actions, num_episodes, epsilon, lr)\n",
        "print(\"\\nGridWorld Q-Learning Optimal policy: \\n\", optimal_Q)\n",
        "\n",
        "\n",
        "print(\"\\nEstimated Optimal Policy (UP = 0, RIGHT = 1, DOWN = 2, LEFT = 3, N/A = -1):\")\n",
        "print(np.array(q_optimal_policy).reshape((4,12)))\n",
        "\n",
        "\n",
        "rewards_per_thousand_episodes = np.split(np.array(q_info[\"rewards\"]),num_episodes/100)\n",
        "count = 100\n",
        "\n"
      ]
    },
    {
      "cell_type": "code",
      "execution_count": 46,
      "metadata": {
        "id": "MPG64gMe-U6z"
      },
      "outputs": [],
      "source": [
        "# run this cell if you do not have the matplotlib library\n",
        "# !pip install matplotlib\n",
        "import matplotlib.pyplot as plt"
      ]
    },
    {
      "cell_type": "code",
      "execution_count": 42,
      "metadata": {
        "id": "81Km5lRY-U6z"
      },
      "outputs": [],
      "source": [
        "def plot_rate(episode_length, total_reward_episode, title):\n",
        "    fig, ax = plt.subplots(1, 2, figsize=(12, 6))\n",
        "    ax[0].plot(episode_length)\n",
        "    ax[0].set_title(\"Episode Length over time\")\n",
        "    ax[0].set(xlabel=\"Episode\", ylabel=\"Length\")\n",
        "    ax[1].plot(total_reward_episode)\n",
        "    ax[1].set_title(\"Episode reward over time\")\n",
        "    ax[1].set(xlabel=\"Episode reward over time\", ylabel=\"Reward\")\n",
        "    fig.suptitle(title)\n",
        "\n",
        "    plt.show()"
      ]
    },
    {
      "cell_type": "code",
      "execution_count": 47,
      "metadata": {
        "colab": {
          "base_uri": "https://localhost:8080/",
          "height": 431
        },
        "id": "bJgIKRvl-U6z",
        "outputId": "1ebf1426-42bc-4b1b-9ae0-c559ad126d0b"
      },
      "outputs": [
        {
          "data": {
            "image/png": "[encoded data removed]",
            "text/plain": [
              "<Figure size 1200x600 with 2 Axes>"
            ]
          },
          "metadata": {},
          "output_type": "display_data"
        }
      ],
      "source": [
        "#plot_rate(sarsa_info[\"length\"], sarsa_info[\"rewards\"], \"GridWorld: SARSA\")\n",
        "plot_rate(q_info[\"length\"], q_info[\"rewards\"], \"GridWorld: Q-Learning\")"
      ]
    },
    {
      "cell_type": "markdown",
      "metadata": {
        "id": "Iy5mooah-U6z"
      },
      "source": [
        "## Task 1b: Learning in Windy Grid world"
      ]
    },
    {
      "cell_type": "markdown",
      "metadata": {
        "id": "cqTbJl04-U6z"
      },
      "source": [
        "WindyGridWorld is similar to GridWorld, but with a few differences. You only need to move to the target state. But this time there is a cross-wind across the center of the grid that will push you upwards. In columns 3, 4, 5, and 8 there are winds of strength 1 while in column 6 and 7 there are winds of strength 2. For more details refer Example 6.5 in\n",
        "\n",
        " http://incompleteideas.net/book/RLbook2020.pdf\n",
        "\n",
        " You only need to change the environment and reuse the SARSA and Q-learning algorithms. "
      ]
    },
    {
      "cell_type": "code",
      "execution_count": 155,
      "metadata": {
        "id": "EcAWoVybW_vB"
      },
      "outputs": [],
      "source": [
        "import numpy as np\n",
        "import sys\n",
        "from gym.envs.toy_text import discrete\n",
        "\n",
        "UP, RIGHT, DOWN, LEFT = range(4)\n",
        "\n",
        "\n",
        "class WindyGridWorld(discrete.DiscreteEnv):\n",
        "    def __init__(self):\n",
        "        self.shape = (7, 10)\n",
        "        nS = self.shape[0] * self.shape[1]\n",
        "        nA = 4\n",
        "        winds = np.zeros(self.shape)\n",
        "        winds[:, [3,4,5, 8]] = 1\n",
        "        winds[:, [6, 7]] = 2\n",
        "        self.goal = (3, 7)\n",
        "        # Transition probability calculation from GridWorld\n",
        "        P = {}\n",
        "        for s in range(nS):\n",
        "            position = np.unravel_index(s, self.shape)\n",
        "            P[s] = {a: [] for a in range(nA)}\n",
        "            P[s][UP] = self._calculate_transition_prob(position, [-1, 0], winds)            \n",
        "            P[s][DOWN] = self._calculate_transition_prob(position, [1, 0], winds)            \n",
        "            P[s][LEFT] = self._calculate_transition_prob(position, [0, -1], winds)            \n",
        "            P[s][RIGHT] = self._calculate_transition_prob(position, [0, 1], winds)\n",
        "        # Starting position (3, 0)\n",
        "        initial_s = np.zeros(nS)\n",
        "        initial_s[np.ravel_multi_index((3,0), self.shape)] = 1.0\n",
        "        super(WindyGridWorld, self).__init__(nS, nA, P, initial_s)\n",
        "\n",
        "    def _calculate_transition_prob(self, current, move, winds):\n",
        "        # Transition probability for a position landed on is 1.0, new_state calculated\n",
        "        new_position = np.array(current) + np.array(move) + np.array([-1, 0]) * winds[(tuple(current))]\n",
        "        new_position = self._limit_coordinates(new_position).astype(int)\n",
        "        new_state = np.ravel_multi_index(tuple(new_position), self.shape)\n",
        "        is_done = tuple(new_position) == self.goal\n",
        "        return [(1.0, new_state, -1, is_done)]\n",
        "\n",
        "    def _limit_coordinates(self, coord):\n",
        "        for i in range(2):\n",
        "            coord[i] = min(coord[i], self.shape[i] - 1)\n",
        "            coord[i] = max(0, coord[i])\n",
        "        return coord\n",
        "\n",
        "    def render(self):\n",
        "        outfile = sys.stdout\n",
        "        for s in range(self.nS):\n",
        "            position = np.unravel_index(s, self.shape)\n",
        "            if self.s == s:\n",
        "                output = \" x \"\n",
        "            elif position == self.goal:\n",
        "                output = \" T \"\n",
        "            else:\n",
        "                output = \" o \"\n",
        "            if position[1] == 0:\n",
        "                output = output.lstrip()\n",
        "            if position[1] == self.shape[1] - 1:\n",
        "                output = output.rstrip()\n",
        "                output += \"\\n\"\n",
        "            outfile.write(output)\n",
        "        outfile.write(\"\\n\")"
      ]
    },
    {
      "cell_type": "code",
      "execution_count": 286,
      "metadata": {
        "colab": {
          "base_uri": "https://localhost:8080/"
        },
        "id": "tUCXL-gk-U60",
        "outputId": "310f0bde-d520-4f0f-b815-a66739c4be4f"
      },
      "outputs": [
        {
          "name": "stdout",
          "output_type": "stream",
          "text": [
            "o  o  o  o  o  o  o  o  o  o\n",
            "o  o  o  o  o  o  o  o  o  o\n",
            "o  o  o  o  o  o  o  o  o  o\n",
            "x  o  o  o  o  o  o  T  o  o\n",
            "o  o  o  o  o  o  o  o  o  o\n",
            "o  o  o  o  o  o  o  o  o  o\n",
            "o  o  o  o  o  o  o  o  o  o\n",
            "\n"
          ]
        }
      ],
      "source": [
        "#Windy Grid World environment\n",
        "env = WindyGridWorld()\n",
        "env.reset()\n",
        "env.render()"
      ]
    },
    {
      "cell_type": "code",
      "execution_count": 293,
      "metadata": {
        "colab": {
          "base_uri": "https://localhost:8080/"
        },
        "id": "JcvSpYzl-U60",
        "outputId": "d62e5998-5e36-4c68-e78d-277424e4e2fa"
      },
      "outputs": [
        {
          "name": "stdout",
          "output_type": "stream",
          "text": [
            "Number of actions:  4\n",
            "Number of states:  70\n"
          ]
        }
      ],
      "source": [
        "num_actions = env.action_space.n \n",
        "num_states = env.observation_space.n \n",
        "\n",
        "print(\"Number of actions: \", num_actions)\n",
        "print(\"Number of states: \", num_states)"
      ]
    },
    {
      "cell_type": "markdown",
      "metadata": {
        "id": "9spUFI_a-U60"
      },
      "source": [
        "Play around with different learning rates epsilons, and Q initializations to see what is best."
      ]
    },
    {
      "cell_type": "code",
      "execution_count": 291,
      "metadata": {
        "id": "0cwHcpwq-U60"
      },
      "outputs": [],
      "source": [
        "num_episodes = 10000\n",
        "lr = 0.01\n",
        "epsilon = 1"
      ]
    },
    {
      "cell_type": "code",
      "execution_count": 292,
      "metadata": {
        "id": "NTDrGMlz-U60"
      },
      "outputs": [],
      "source": [
        "# Initialize Q function - a simplified version is used here \n",
        "# in reality the number of states may be unknown and all states may not be reachable \n",
        "\n",
        "# hint: use num_states as the key to a dictionary of lists\n",
        "Q = np.zeros((num_states, num_actions))"
      ]
    },
    {
      "cell_type": "code",
      "execution_count": 218,
      "metadata": {
        "colab": {
          "base_uri": "https://localhost:8080/",
          "height": 322
        },
        "id": "VhORioCy-U60",
        "outputId": "53aca886-7cd8-4978-8bfe-58a3c4f38f5c"
      },
      "outputs": [
        {
          "name": "stderr",
          "output_type": "stream",
          "text": [
            "  0%|          | 0/10000 [00:04<?, ?it/s]\n"
          ]
        },
        {
          "ename": "KeyboardInterrupt",
          "evalue": "ignored",
          "output_type": "error",
          "traceback": [
            "\u001b[0;31m---------------------------------------------------------------------------\u001b[0m",
            "\u001b[0;31mKeyboardInterrupt\u001b[0m                         Traceback (most recent call last)",
            "\u001b[0;32m<ipython-input-218-47319df394c0>\u001b[0m in \u001b[0;36m<module>\u001b[0;34m\u001b[0m\n\u001b[0;32m----> 1\u001b[0;31m \u001b[0moptimal_sarsa_Q\u001b[0m\u001b[0;34m,\u001b[0m \u001b[0msarsa_optimal_policy\u001b[0m\u001b[0;34m,\u001b[0m \u001b[0msarsa_info\u001b[0m \u001b[0;34m=\u001b[0m \u001b[0msarsa\u001b[0m\u001b[0;34m(\u001b[0m\u001b[0menv\u001b[0m\u001b[0;34m,\u001b[0m \u001b[0mQ\u001b[0m\u001b[0;34m,\u001b[0m \u001b[0mnum_actions\u001b[0m\u001b[0;34m,\u001b[0m \u001b[0mnum_episodes\u001b[0m\u001b[0;34m,\u001b[0m \u001b[0mepsilon\u001b[0m\u001b[0;34m,\u001b[0m \u001b[0mlr\u001b[0m\u001b[0;34m)\u001b[0m\u001b[0;34m\u001b[0m\u001b[0;34m\u001b[0m\u001b[0m\n\u001b[0m\u001b[1;32m      2\u001b[0m \u001b[0mprint\u001b[0m\u001b[0;34m(\u001b[0m\u001b[0;34m\"\\n WindyGridWorld SARSA Optimal policy: \\n\"\u001b[0m\u001b[0;34m,\u001b[0m \u001b[0msarsa_optimal_policy\u001b[0m\u001b[0;34m)\u001b[0m\u001b[0;34m\u001b[0m\u001b[0;34m\u001b[0m\u001b[0m\n",
            "\u001b[0;32m<ipython-input-102-17144019bb9b>\u001b[0m in \u001b[0;36msarsa\u001b[0;34m(env, Q, num_actions, num_episodes, epsilon, lr)\u001b[0m\n\u001b[1;32m     13\u001b[0m \u001b[0;34m\u001b[0m\u001b[0m\n\u001b[1;32m     14\u001b[0m             \u001b[0mepisode_length\u001b[0m\u001b[0;34m[\u001b[0m\u001b[0mepisode\u001b[0m\u001b[0;34m]\u001b[0m \u001b[0;34m+=\u001b[0m \u001b[0;36m1\u001b[0m\u001b[0;34m\u001b[0m\u001b[0;34m\u001b[0m\u001b[0m\n\u001b[0;32m---> 15\u001b[0;31m             \u001b[0mtotal_reward_episode\u001b[0m\u001b[0;34m[\u001b[0m\u001b[0mepisode\u001b[0m\u001b[0;34m]\u001b[0m \u001b[0;34m+=\u001b[0m \u001b[0mreward\u001b[0m\u001b[0;34m\u001b[0m\u001b[0;34m\u001b[0m\u001b[0m\n\u001b[0m\u001b[1;32m     16\u001b[0m     \u001b[0mpolicy\u001b[0m \u001b[0;34m=\u001b[0m \u001b[0;34m{\u001b[0m\u001b[0;34m}\u001b[0m\u001b[0;34m\u001b[0m\u001b[0;34m\u001b[0m\u001b[0m\n\u001b[1;32m     17\u001b[0m     \u001b[0;31m# Write code here as well\u001b[0m\u001b[0;34m\u001b[0m\u001b[0;34m\u001b[0m\u001b[0;34m\u001b[0m\u001b[0m\n",
            "\u001b[0;31mKeyboardInterrupt\u001b[0m: "
          ]
        }
      ],
      "source": [
        "optimal_sarsa_Q, sarsa_optimal_policy, sarsa_info = sarsa(env, Q, num_actions, num_episodes, epsilon, lr)\n",
        "print(\"\\n WindyGridWorld SARSA Optimal policy: \\n\", sarsa_optimal_policy)"
      ]
    },
    {
      "cell_type": "code",
      "execution_count": 297,
      "metadata": {
        "colab": {
          "base_uri": "https://localhost:8080/"
        },
        "id": "g1OIhN6h-U60",
        "outputId": "9b102e74-1eba-47a0-f690-3969e6ddad4f"
      },
      "outputs": [
        {
          "name": "stderr",
          "output_type": "stream",
          "text": [
            "100%|██████████| 100000/100000 [00:57<00:00, 1754.17it/s]"
          ]
        },
        {
          "name": "stdout",
          "output_type": "stream",
          "text": [
            "\n",
            "Estimated Optimal Policy (UP = 0, RIGHT = 1, DOWN = 2, LEFT = 3, N/A = -1):\n",
            "\n",
            " WindyGridWorld Q-Learning Optimal policy: \n",
            " [[1 1 1 1 1 1 1 1 1 2]\n",
            " [1 1 1 1 1 1 1 1 1 2]\n",
            " [1 1 1 1 1 1 1 1 1 2]\n",
            " [1 1 1 1 1 1 1 0 1 2]\n",
            " [1 1 1 1 1 1 0 2 3 3]\n",
            " [1 1 1 1 1 0 0 2 3 0]\n",
            " [1 1 1 1 0 0 0 0 0 3]]\n"
          ]
        },
        {
          "name": "stderr",
          "output_type": "stream",
          "text": [
            "\n"
          ]
        }
      ],
      "source": [
        "optimal_Q, q_optimal_policy, q_info = q_learning(env, Q, num_actions, num_episodes, epsilon, lr)\n",
        "print(\"\\nEstimated Optimal Policy (UP = 0, RIGHT = 1, DOWN = 2, LEFT = 3, N/A = -1):\")\n",
        "q_optimal_policy = np.array(q_optimal_policy).reshape((7,10))\n",
        "print(\"\\n WindyGridWorld Q-Learning Optimal policy: \\n\", q_optimal_policy)"
      ]
    },
    {
      "cell_type": "code",
      "execution_count": null,
      "metadata": {
        "id": "S8I_ef80-U60"
      },
      "outputs": [],
      "source": [
        "plot_rate(sarsa_info[\"length\"], sarsa_info[\"rewards\"], \"GridWorld: SARSA\")\n",
        "plot_rate(q_info[\"length\"], q_info[\"rewards\"], \"GridWorld: Q-Learning\")"
      ]
    },
    {
      "cell_type": "markdown",
      "metadata": {
        "id": "CLc1fVhM-U60"
      },
      "source": [
        "# Task 2: Analysis (Comparison of Q-learning and SARSA learning algorithms)\n",
        "\n",
        "1. Comment on the number of episodes required to converge to the optimal policy for both environments. \n",
        "       \n",
        "2. Discuss the differences in the reward graphs.  \n",
        "\n",
        "3. Calculate the average return across the episodes for each environment. It gives a measure of the performance of the algorithm while learning (i.e., online performance).  \n",
        "\n",
        "4. Calculate the return after convergence. It gives you a measure of the performance after the learning is completed (i.e., offline performance). \n",
        "\n",
        "5. Briefly summarize your results.\n",
        " \n",
        " It is advisable to rerun the algorithm a few times to get a clearer understanding of the algorithms."
      ]
    }
  ],
  "metadata": {
    "colab": {
      "collapsed_sections": [],
      "provenance": [],
      "toc_visible": true
    },
    "kernelspec": {
      "display_name": "Python 3.8.13 ('IT5005')",
      "language": "python",
      "name": "python3"
    },
    "language_info": {
      "codemirror_mode": {
        "name": "ipython",
        "version": 3
      },
      "file_extension": ".py",
      "mimetype": "text/x-python",
      "name": "python",
      "nbconvert_exporter": "python",
      "pygments_lexer": "ipython3",
      "version": "3.8.13"
    },
    "orig_nbformat": 4,
    "vscode": {
      "interpreter": {
        "hash": "d865cb9cdb183744776ff4f65272db74d2b266e002a2823cb7151ebc57ef5d13"
      }
    }
  },
  "nbformat": 4,
  "nbformat_minor": 0
}
