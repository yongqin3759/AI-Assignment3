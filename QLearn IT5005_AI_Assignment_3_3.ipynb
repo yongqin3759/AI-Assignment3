{
 "cells": [
  {
   "cell_type": "markdown",
   "metadata": {
    "id": "l5fuj3bc-U6r"
   },
   "source": [
    "# Assignment 3 - Reinforcement Learning"
   ]
  },
  {
   "cell_type": "markdown",
   "metadata": {
    "id": "9jwA-q1B-U6u"
   },
   "source": [
    "## GridWorlds\n",
    "\n",
    "This assignment involves finding optimal policies for two grid worlds (CliffWalking and WindyGridWorld) using SARSA and Q learning. Details about WindyGridWorld (Example 6.5) and CliffWalking (Example 6.6) can be found in the following link.\n",
    "    \n",
    "    http://incompleteideas.net/book/RLbook2020.pdf\n",
    "\n",
    "\n",
    "You need gym (version 0.18) and numpy (version 1.20.1) for this assignment. The environment for both problems are provided. \n",
    "\n",
    "For Windy Grid World environemnt you also need the file 'WindyGridWorld.py'. \n",
    "\n",
    "### Task 1: Learning [5 Marks]\n",
    "\n",
    "You only need to write the codes for SARSA and Q-learning algorithms. Then do the learning in both 'CliffWalking' and 'Windy Grid World' environments. \n",
    "\n",
    "### Task 2: Analysis [5 Marks]   \n",
    "\n",
    "1. Calculate the average return across the episodes. It gives you a measure of the performance of the algorithm while learning.  \n",
    "\n",
    "2. Calculate the return after convergence. It gives you a measure of the performance after the learning is completed. \n",
    "\n",
    "3. What do you observe from these results?"
   ]
  },
  {
   "cell_type": "markdown",
   "metadata": {
    "id": "NYhZ5Mfc-U6v"
   },
   "source": [
    "Install the necessary packages"
   ]
  },
  {
   "cell_type": "code",
   "execution_count": 1247,
   "metadata": {
    "colab": {
     "base_uri": "https://localhost:8080/"
    },
    "id": "eNcED6Wl-U6v",
    "outputId": "9e8ac628-0218-41e7-c38c-f6ae086217b8"
   },
   "outputs": [
    {
     "name": "stdout",
     "output_type": "stream",
     "text": [
      "Requirement already satisfied: gym==0.18 in /Users/suresh/opt/anaconda3/lib/python3.9/site-packages (0.18.0)\n",
      "Requirement already satisfied: scipy in /Users/suresh/opt/anaconda3/lib/python3.9/site-packages (from gym==0.18) (1.7.3)\n",
      "Requirement already satisfied: pyglet<=1.5.0,>=1.4.0 in /Users/suresh/opt/anaconda3/lib/python3.9/site-packages (from gym==0.18) (1.5.0)\n",
      "Requirement already satisfied: numpy>=1.10.4 in /Users/suresh/opt/anaconda3/lib/python3.9/site-packages (from gym==0.18) (1.20.1)\n",
      "Requirement already satisfied: cloudpickle<1.7.0,>=1.2.0 in /Users/suresh/opt/anaconda3/lib/python3.9/site-packages (from gym==0.18) (1.6.0)\n",
      "Requirement already satisfied: Pillow<=7.2.0 in /Users/suresh/opt/anaconda3/lib/python3.9/site-packages (from gym==0.18) (7.2.0)\n",
      "Requirement already satisfied: future in /Users/suresh/opt/anaconda3/lib/python3.9/site-packages (from pyglet<=1.5.0,>=1.4.0->gym==0.18) (0.18.2)\n",
      "Requirement already satisfied: numpy==1.20.1 in /Users/suresh/opt/anaconda3/lib/python3.9/site-packages (1.20.1)\n",
      "Requirement already satisfied: tqdm in /Users/suresh/opt/anaconda3/lib/python3.9/site-packages (4.64.0)\n"
     ]
    }
   ],
   "source": [
    "!pip install gym==0.18\n",
    "!pip install numpy==1.20.1\n",
    "!pip install tqdm \n"
   ]
  },
  {
   "cell_type": "markdown",
   "metadata": {
    "id": "TYeXJEip-U6w"
   },
   "source": [
    "# Task 1: Learning\n",
    "## Task 1a: Learning in CliffWalking Environment"
   ]
  },
  {
   "cell_type": "markdown",
   "metadata": {
    "id": "uLFhiA86-U6w"
   },
   "source": [
    "### Environment for CliffWalking\n",
    "\n",
    "The board is a 4x12 matrix, with (using NumPy matrix indexing):\n",
    "    [3, 0] as the start at bottom-left\n",
    "    [3, 11] as the goal at bottom-right\n",
    "    [3, 1..10] as the cliff at bottom-center\n",
    "\n",
    "Each time step incurs -1 reward, and stepping into the cliff incurs -100 reward\n",
    "and a reset to the start. If an action would take you off the grid, you remain in the previous state.\n",
    "An episode terminates when the agent reaches the goal.\n"
   ]
  },
  {
   "cell_type": "code",
   "execution_count": 1248,
   "metadata": {
    "colab": {
     "base_uri": "https://localhost:8080/"
    },
    "id": "51k5bDhU-U6w",
    "outputId": "a0b21e3c-5e7c-4a25-efd7-d0918851474c"
   },
   "outputs": [
    {
     "name": "stdout",
     "output_type": "stream",
     "text": [
      "o  o  o  o  o  o  o  o  o  o  o  o\n",
      "o  o  o  o  o  o  o  o  o  o  o  o\n",
      "o  o  o  o  o  o  o  o  o  o  o  o\n",
      "x  C  C  C  C  C  C  C  C  C  C  T\n",
      "\n"
     ]
    }
   ],
   "source": [
    "%matplotlib inline\n",
    "\n",
    "import matplotlib.pyplot as plt\n",
    "import gym\n",
    "import numpy as np\n",
    "from tqdm import tqdm \n",
    "\n",
    "env = gym.make('CliffWalking-v0') # Create the environment #render_mode=\"human\"  human, ansi, \n",
    "env.reset() # reset environment to a new, random state\n",
    "env.render() # Renders the environment for visualization"
   ]
  },
  {
   "cell_type": "markdown",
   "metadata": {
    "id": "X4A_vwCj-U6x"
   },
   "source": [
    "Here _x_ is the location of the agent, *o* are possible places to go to, *C* is the cliff, and *T* is the target."
   ]
  },
  {
   "cell_type": "code",
   "execution_count": 1249,
   "metadata": {
    "colab": {
     "base_uri": "https://localhost:8080/"
    },
    "id": "WBsK1JJx-U6x",
    "outputId": "7954e644-f544-442c-e64b-2b39ca33c824"
   },
   "outputs": [
    {
     "name": "stdout",
     "output_type": "stream",
     "text": [
      "Number of actions:  4\n",
      "Number of states:  48\n"
     ]
    }
   ],
   "source": [
    "num_actions = env.action_space.n \n",
    "num_states = env.observation_space.n \n",
    "\n",
    "print(\"Number of actions: \", num_actions)\n",
    "print(\"Number of states: \", num_states)"
   ]
  },
  {
   "cell_type": "code",
   "execution_count": 1250,
   "metadata": {
    "colab": {
     "base_uri": "https://localhost:8080/"
    },
    "id": "bSzMUK7Z-U6x",
    "outputId": "67c28bf8-90fa-4ef6-e435-0630a40e176e"
   },
   "outputs": [
    {
     "name": "stdout",
     "output_type": "stream",
     "text": [
      "o  o  o  o  o  o  o  o  o  o  o  o\n",
      "o  o  o  o  o  o  o  o  o  o  o  o\n",
      "x  o  o  o  o  o  o  o  o  o  o  o\n",
      "o  C  C  C  C  C  C  C  C  C  C  T\n",
      "\n"
     ]
    }
   ],
   "source": [
    "action = 0 # Move up\n",
    "a = env.step(action) # This is the function we use to interact with the environment\n",
    "env.render() # Renders the environment for visualization"
   ]
  },
  {
   "cell_type": "code",
   "execution_count": 1251,
   "metadata": {
    "colab": {
     "base_uri": "https://localhost:8080/"
    },
    "id": "DalxfEmo-U6y",
    "outputId": "16c2bb52-8054-4c0b-a73f-88e1c2c0ec09"
   },
   "outputs": [
    {
     "name": "stdout",
     "output_type": "stream",
     "text": [
      "Action:  0\n",
      "Next state:  24\n",
      "Reward:  -1\n",
      "Done:  False\n",
      "o  o  o  o  o  o  o  o  o  o  o  o\n",
      "o  o  o  o  o  o  o  o  o  o  o  o\n",
      "x  o  o  o  o  o  o  o  o  o  o  o\n",
      "o  C  C  C  C  C  C  C  C  C  C  T\n",
      "\n",
      "Action:  1\n",
      "Next state:  25\n",
      "Reward:  -1\n",
      "Done:  False\n",
      "o  o  o  o  o  o  o  o  o  o  o  o\n",
      "o  o  o  o  o  o  o  o  o  o  o  o\n",
      "o  x  o  o  o  o  o  o  o  o  o  o\n",
      "o  C  C  C  C  C  C  C  C  C  C  T\n",
      "\n",
      "Action:  2\n",
      "Next state:  36\n",
      "Reward:  -100\n",
      "Done:  False\n",
      "o  o  o  o  o  o  o  o  o  o  o  o\n",
      "o  o  o  o  o  o  o  o  o  o  o  o\n",
      "o  o  o  o  o  o  o  o  o  o  o  o\n",
      "x  C  C  C  C  C  C  C  C  C  C  T\n",
      "\n",
      "Action:  3\n",
      "Next state:  36\n",
      "Reward:  -1\n",
      "Done:  False\n",
      "o  o  o  o  o  o  o  o  o  o  o  o\n",
      "o  o  o  o  o  o  o  o  o  o  o  o\n",
      "o  o  o  o  o  o  o  o  o  o  o  o\n",
      "x  C  C  C  C  C  C  C  C  C  C  T\n",
      "\n"
     ]
    },
    {
     "data": {
      "text/plain": [
       "36"
      ]
     },
     "execution_count": 1251,
     "metadata": {},
     "output_type": "execute_result"
    }
   ],
   "source": [
    "# 0 -> UP, 1 -> RIGHT, 2 -> DOWN, 3 -> LEFT\n",
    "env.reset()\n",
    "import time\n",
    "for action in [0, 1, 2, 3]:\n",
    "    print(\"Action: \", action)\n",
    "    time.sleep(1)\n",
    "    next_state, reward, is_done, info = env.step(action)     # next_state, reward, is_done, info\n",
    "    print(\"Next state: \", next_state)\n",
    "    print(\"Reward: \", reward)\n",
    "    print(\"Done: \",is_done)\n",
    "    env.render()\n",
    "env.reset()"
   ]
  },
  {
   "cell_type": "markdown",
   "metadata": {
    "id": "gAL4YvAF-U6y"
   },
   "source": [
    "As you can see above, each non-terminal action has a reward of -1. 0 -> UP, 1 -> RIGHT, 2 -> DOWN, 3 -> LEFT. The moment the agent falls off the cliff the reward becomes -100 and the agent resets to the start."
   ]
  },
  {
   "cell_type": "code",
   "execution_count": 1278,
   "metadata": {
    "id": "0BCsSRrH-U6y"
   },
   "outputs": [],
   "source": [
    "# Initialize values \n",
    "num_episodes = 500\n",
    "lr = 0.3\n",
    "epsilon = 1\n",
    "exploration_decreasing_decay = 0.01\n",
    "min_exploration_proba = 0.1\n",
    "\n",
    "max_steps_per_episode = 200\n",
    "\n",
    "# Epsilon decrease code taken from https://towardsdatascience.com/q-learning-algorithm-from-explanation-to-implementation-cdbeda2ea187"
   ]
  },
  {
   "cell_type": "code",
   "execution_count": 1253,
   "metadata": {
    "colab": {
     "base_uri": "https://localhost:8080/"
    },
    "id": "3sy8_qjk-U6y",
    "outputId": "5641a7f3-4c1b-43af-a57a-153810c35246"
   },
   "outputs": [
    {
     "name": "stdout",
     "output_type": "stream",
     "text": [
      "{0: [0, 0, 0, 0], 1: [0, 0, 0, 0], 2: [0, 0, 0, 0], 3: [0, 0, 0, 0], 4: [0, 0, 0, 0], 5: [0, 0, 0, 0], 6: [0, 0, 0, 0], 7: [0, 0, 0, 0], 8: [0, 0, 0, 0], 9: [0, 0, 0, 0], 10: [0, 0, 0, 0], 11: [0, 0, 0, 0], 12: [0, 0, 0, 0], 13: [0, 0, 0, 0], 14: [0, 0, 0, 0], 15: [0, 0, 0, 0], 16: [0, 0, 0, 0], 17: [0, 0, 0, 0], 18: [0, 0, 0, 0], 19: [0, 0, 0, 0], 20: [0, 0, 0, 0], 21: [0, 0, 0, 0], 22: [0, 0, 0, 0], 23: [0, 0, 0, 0], 24: [0, 0, 0, 0], 25: [0, 0, 0, 0], 26: [0, 0, 0, 0], 27: [0, 0, 0, 0], 28: [0, 0, 0, 0], 29: [0, 0, 0, 0], 30: [0, 0, 0, 0], 31: [0, 0, 0, 0], 32: [0, 0, 0, 0], 33: [0, 0, 0, 0], 34: [0, 0, 0, 0], 35: [0, 0, 0, 0], 36: [0, 0, 0, 0], 37: [0, 0, 0, 0], 38: [0, 0, 0, 0], 39: [0, 0, 0, 0], 40: [0, 0, 0, 0], 41: [0, 0, 0, 0], 42: [0, 0, 0, 0], 43: [0, 0, 0, 0], 44: [0, 0, 0, 0], 45: [0, 0, 0, 0], 46: [0, 0, 0, 0], 47: [0, 0, 0, 0]}\n"
     ]
    }
   ],
   "source": [
    "import random\n",
    "# Initialize Q function - a simplified version is used here \n",
    "# in reality the number of states may be unknown and all states may not be reachable \n",
    "\n",
    "# hint: use num_states as the key to a dictionary of lists\n",
    "new_dict = {new_list: [0 for x in range(num_actions)] for new_list in range(num_states)}\n",
    "Q = new_dict\n",
    "print(Q)"
   ]
  },
  {
   "cell_type": "code",
   "execution_count": 1254,
   "metadata": {
    "id": "WPKx8d8o-U6y"
   },
   "outputs": [],
   "source": [
    "def behavioral_policy(state, Q, num_actions, epsilon):\n",
    "    # Implement the epsilon-greedy policy\n",
    "    # Don't forget the epsilon-greedy idea\n",
    "    randomnumber= np.random.uniform(0,1)\n",
    "    \n",
    "    if randomnumber < epsilon:\n",
    "        probs = [1/num_actions for x in range(num_actions)]\n",
    "        action = np.argmax(np.random.multinomial(1, probs, size=1))\n",
    "        \n",
    "    else:       \n",
    "        maxq=-9999999999999999999999999\n",
    "        ties=[]\n",
    "        \n",
    "        for i in range(len(Q[state])):\n",
    "            if Q[state][i]>maxq:\n",
    "                maxq=Q[state][i]\n",
    "                ties=[]\n",
    "                \n",
    "            if Q[state][i]==maxq:\n",
    "                ties.append(i)\n",
    "        \n",
    "        action = np.random.choice(ties)\n",
    "\n",
    "    return action \n",
    "    "
   ]
  },
  {
   "cell_type": "code",
   "execution_count": 1255,
   "metadata": {
    "colab": {
     "base_uri": "https://localhost:8080/"
    },
    "id": "H5gsgwjy-U6y",
    "outputId": "1d597457-ca30-46e9-9fc0-6aa856faaa58"
   },
   "outputs": [
    {
     "name": "stdout",
     "output_type": "stream",
     "text": [
      "3\n",
      "0\n",
      "2\n",
      "1\n",
      "2\n",
      "2\n",
      "2\n",
      "0\n",
      "3\n",
      "0\n"
     ]
    }
   ],
   "source": [
    "# You can use this to check if your algorithm is correct\n",
    "for i in range(10):\n",
    "    print(behavioral_policy(0, Q, num_actions, 0.8))"
   ]
  },
  {
   "cell_type": "markdown",
   "metadata": {},
   "source": [
    "### Print Policy Table (Cliff) "
   ]
  },
  {
   "cell_type": "code",
   "execution_count": 1256,
   "metadata": {},
   "outputs": [],
   "source": [
    "def printpolicytablecliff(policy):\n",
    "    for k,v in policy.items():\n",
    "        if k==12 or k==24 or k==36:\n",
    "            print()\n",
    "        if v==3:\n",
    "            print(\"LEFT\", end = ' ')\n",
    "        if v==2:\n",
    "            print(\"DOWN\", end = ' ')\n",
    "        if v==1:\n",
    "            print(\"RIGH\", end = ' ')\n",
    "        if v==0:\n",
    "            print(\" UP \", end = ' ')"
   ]
  },
  {
   "cell_type": "markdown",
   "metadata": {
    "id": "M_M8EVue-U6z"
   },
   "source": [
    "### SARSA Learning "
   ]
  },
  {
   "cell_type": "code",
   "execution_count": 1257,
   "metadata": {
    "id": "k4HhH0zf-U6z"
   },
   "outputs": [],
   "source": [
    "def sarsa(env, Q, num_actions, num_episodes, epsilon, lr):\n",
    "    # Given to students\n",
    "    episode_length = [0] * num_episodes\n",
    "    total_reward_episode = [0] * num_episodes\n",
    "    \n",
    "    \n",
    "    for episode in tqdm(range(num_episodes)):\n",
    "        state = env.reset()\n",
    "        is_done = False\n",
    "        \n",
    "        # Implement SARSA\n",
    "        current_action = behavioral_policy(state, Q, num_actions, epsilon)\n",
    "        current_state=state\n",
    "        \n",
    "        while not is_done and episode_length[episode] < max_steps_per_episode:           \n",
    "            next_state, reward, is_done, info = env.step(current_action) \n",
    "            next_action = behavioral_policy(next_state, Q, num_actions, epsilon)\n",
    "          \n",
    "            Q[current_state][current_action] = Q[current_state][current_action]  + lr*(reward + (Q[next_state][next_action]) -  Q[current_state][current_action])\n",
    "            \n",
    "            current_state = next_state\n",
    "            current_action= next_action\n",
    "\n",
    "            \n",
    "            episode_length[episode] += 1\n",
    "            total_reward_episode[episode] += reward\n",
    "        \n",
    "        # Reduce epsilon\n",
    "        #print(epsilon)\n",
    "        epsilon = max(min_exploration_proba, np.exp(-exploration_decreasing_decay*episode))\n",
    "            \n",
    "            \n",
    "    #create policy\n",
    "    policy = {new_list2: 0 for new_list2 in range(num_states)}\n",
    "    \n",
    "    for state in policy.keys():\n",
    "        policy[state]= np.argmax(Q[state])\n",
    "    \n",
    "\n",
    "    return Q, policy, {\"rewards\": total_reward_episode, \"length\": episode_length}"
   ]
  },
  {
   "cell_type": "code",
   "execution_count": 1258,
   "metadata": {
    "colab": {
     "base_uri": "https://localhost:8080/",
     "height": 339
    },
    "id": "5Icyzo8v-U6z",
    "outputId": "84fcf06b-cfcb-456d-8c63-6e9ed8eec033"
   },
   "outputs": [
    {
     "name": "stderr",
     "output_type": "stream",
     "text": [
      "100%|██████████████████████████████████████████| 500/500 [00:00<00:00, 580.25it/s]\n"
     ]
    },
    {
     "name": "stdout",
     "output_type": "stream",
     "text": [
      "\n",
      "GridWorld SARSA Optimal policy: \n",
      " {0: 1, 1: 1, 2: 1, 3: 1, 4: 1, 5: 1, 6: 1, 7: 1, 8: 1, 9: 1, 10: 1, 11: 2, 12: 0, 13: 0, 14: 0, 15: 0, 16: 0, 17: 0, 18: 1, 19: 0, 20: 0, 21: 0, 22: 0, 23: 2, 24: 0, 25: 0, 26: 0, 27: 0, 28: 0, 29: 0, 30: 1, 31: 0, 32: 0, 33: 0, 34: 1, 35: 2, 36: 0, 37: 0, 38: 0, 39: 0, 40: 0, 41: 0, 42: 0, 43: 0, 44: 0, 45: 0, 46: 0, 47: 0}\n",
      "\n",
      "\n",
      "Policy Graph\n",
      "\n",
      "RIGH RIGH RIGH RIGH RIGH RIGH RIGH RIGH RIGH RIGH RIGH DOWN \n",
      " UP   UP   UP   UP   UP   UP  RIGH  UP   UP   UP   UP  DOWN \n",
      " UP   UP   UP   UP   UP   UP  RIGH  UP   UP   UP  RIGH DOWN \n",
      " UP   UP   UP   UP   UP   UP   UP   UP   UP   UP   UP   UP  \n",
      "\n",
      "Post-Learning Path and Reward\n",
      "\n",
      "Moving to state 24, cumulative reward -1\n",
      "Moving to state 12, cumulative reward -2\n",
      "Moving to state 0, cumulative reward -3\n",
      "Moving to state 1, cumulative reward -4\n",
      "Moving to state 2, cumulative reward -5\n",
      "Moving to state 3, cumulative reward -6\n",
      "Moving to state 4, cumulative reward -7\n",
      "Moving to state 5, cumulative reward -8\n",
      "Moving to state 6, cumulative reward -9\n",
      "Moving to state 7, cumulative reward -10\n",
      "Moving to state 8, cumulative reward -11\n",
      "Moving to state 9, cumulative reward -12\n",
      "Moving to state 10, cumulative reward -13\n",
      "Moving to state 11, cumulative reward -14\n",
      "Moving to state 23, cumulative reward -15\n",
      "Moving to state 35, cumulative reward -16\n",
      "Goal 47 reached with cumulative reward of -17\n"
     ]
    },
    {
     "data": {
      "text/plain": [
       "36"
      ]
     },
     "execution_count": 1258,
     "metadata": {},
     "output_type": "execute_result"
    }
   ],
   "source": [
    "# Print Q table is freshly initialised\n",
    "new_dict = {new_list: [0 for x in range(num_actions)] for new_list in range(num_states)}\n",
    "Q = new_dict\n",
    "\n",
    "\n",
    "# Run SARSA\n",
    "optimal_sarsa_Q, sarsa_optimal_policy, sarsa_info = sarsa(env, Q, num_actions, num_episodes, epsilon, lr)\n",
    "print(\"\\nGridWorld SARSA Optimal policy: \\n\", sarsa_optimal_policy)\n",
    "\n",
    "\n",
    "#Print Policy Path\n",
    "print()\n",
    "print(\"\\nPolicy Graph\\n\")\n",
    "printpolicytablecliff(sarsa_optimal_policy)\n",
    "\n",
    "#Learned Path\n",
    "print()\n",
    "print(\"\\nPost-Learning Path and Reward\\n\")\n",
    "env.reset()\n",
    "import time\n",
    "time.sleep(1)\n",
    "cumreward=0\n",
    "next_state, reward, is_done, info = env.step(sarsa_optimal_policy[36])\n",
    "cumreward+=reward\n",
    "gridworld_sarsa_optimalstring=\"\"\n",
    "while not is_done:\n",
    "    gridworld_sarsa_optimalstring+=f\"Moving to state {next_state}, cumulative reward {cumreward}\\n\"\n",
    "    next_state, reward, is_done, info = env.step(sarsa_optimal_policy[next_state])\n",
    "    cumreward+=reward\n",
    "gridworld_sarsa_optimalstring+=f\"Goal 47 reached with cumulative reward of {cumreward}\"\n",
    "print(gridworld_sarsa_optimalstring)\n",
    "env.reset()"
   ]
  },
  {
   "cell_type": "markdown",
   "metadata": {
    "id": "I7ihApKW-U6z"
   },
   "source": [
    "### Q-Learning"
   ]
  },
  {
   "cell_type": "code",
   "execution_count": 1259,
   "metadata": {
    "id": "ttAoHrTD-U6z"
   },
   "outputs": [],
   "source": [
    "def q_learning(env, Q, num_actions, num_episodes, epsilon, lr):\n",
    "    # Given to students\n",
    "    episode_length = [0] * num_episodes\n",
    "    total_reward_episode = [0] * num_episodes\n",
    "\n",
    "   \n",
    "    for episode in tqdm(range(num_episodes)):\n",
    "        state = env.reset()\n",
    "        is_done = False\n",
    "        # Implemnt Q-Learning\n",
    "        current_state=state\n",
    "        \n",
    "        while not is_done and episode_length[episode] < max_steps_per_episode:\n",
    "            current_action = behavioral_policy(current_state, Q, num_actions, epsilon)\n",
    "            next_state, reward, is_done, info = env.step(current_action) \n",
    "            \n",
    "            maxQ_of_next_state = Q[next_state][np.argmax(Q[next_state])]\n",
    "            Q[current_state][current_action] = Q[current_state][current_action]  + lr*(reward + maxQ_of_next_state -  Q[current_state][current_action])\n",
    "\n",
    "            current_state = next_state\n",
    "            \n",
    "            total_reward_episode[episode] += reward\n",
    "            episode_length[episode] += 1\n",
    "\n",
    "        # Reduce epsilon\n",
    "        #print(epsilon)\n",
    "        epsilon = max(min_exploration_proba, np.exp(-exploration_decreasing_decay*episode))\n",
    "\n",
    "        \n",
    "    #create policy          \n",
    "    policy = {new_list3: 0 for new_list3 in range(num_states)}\n",
    "    \n",
    "    for state in policy.keys():\n",
    "        policy[state]= np.argmax(Q[state])\n",
    "\n",
    "\n",
    "    return Q, policy, {\"rewards\": total_reward_episode, \"length\": episode_length}\n"
   ]
  },
  {
   "cell_type": "code",
   "execution_count": 1260,
   "metadata": {
    "colab": {
     "base_uri": "https://localhost:8080/"
    },
    "id": "jlr7cdEr-U6z",
    "outputId": "cfb98df5-7c45-4b16-c589-9c589a85ddcf"
   },
   "outputs": [
    {
     "name": "stderr",
     "output_type": "stream",
     "text": [
      "100%|██████████████████████████████████████████| 500/500 [00:00<00:00, 521.57it/s]\n"
     ]
    },
    {
     "name": "stdout",
     "output_type": "stream",
     "text": [
      "\n",
      "GridWorld Q-Learning Optimal policy: \n",
      " {0: 0, 1: 1, 2: 1, 3: 2, 4: 2, 5: 1, 6: 1, 7: 2, 8: 2, 9: 1, 10: 2, 11: 2, 12: 1, 13: 1, 14: 1, 15: 2, 16: 1, 17: 2, 18: 1, 19: 1, 20: 1, 21: 2, 22: 2, 23: 2, 24: 1, 25: 1, 26: 1, 27: 1, 28: 1, 29: 1, 30: 1, 31: 1, 32: 1, 33: 1, 34: 1, 35: 2, 36: 0, 37: 0, 38: 0, 39: 0, 40: 0, 41: 0, 42: 0, 43: 0, 44: 0, 45: 0, 46: 0, 47: 0}\n",
      "\n",
      "\n",
      "Policy Graph\n",
      "\n",
      " UP  RIGH RIGH DOWN DOWN RIGH RIGH DOWN DOWN RIGH DOWN DOWN \n",
      "RIGH RIGH RIGH DOWN RIGH DOWN RIGH RIGH RIGH DOWN DOWN DOWN \n",
      "RIGH RIGH RIGH RIGH RIGH RIGH RIGH RIGH RIGH RIGH RIGH DOWN \n",
      " UP   UP   UP   UP   UP   UP   UP   UP   UP   UP   UP   UP  \n",
      "\n",
      "Post-Learning Path and Reward\n",
      "\n",
      "Moving to state 24, cumulative reward -1\n",
      "Moving to state 25, cumulative reward -2\n",
      "Moving to state 26, cumulative reward -3\n",
      "Moving to state 27, cumulative reward -4\n",
      "Moving to state 28, cumulative reward -5\n",
      "Moving to state 29, cumulative reward -6\n",
      "Moving to state 30, cumulative reward -7\n",
      "Moving to state 31, cumulative reward -8\n",
      "Moving to state 32, cumulative reward -9\n",
      "Moving to state 33, cumulative reward -10\n",
      "Moving to state 34, cumulative reward -11\n",
      "Moving to state 35, cumulative reward -12\n",
      "Goal 47 reached with cumulative reward of -13\n"
     ]
    },
    {
     "data": {
      "text/plain": [
       "36"
      ]
     },
     "execution_count": 1260,
     "metadata": {},
     "output_type": "execute_result"
    }
   ],
   "source": [
    "# Print Q table is freshly initialised\n",
    "new_dict = {new_list: [0 for x in range(num_actions)] for new_list in range(num_states)}\n",
    "Q = new_dict\n",
    "\n",
    "# Run Q-Learning \n",
    "optimal_Q, q_optimal_policy, q_info = q_learning(env, Q, num_actions, num_episodes, epsilon, lr)\n",
    "print(\"\\nGridWorld Q-Learning Optimal policy: \\n\", q_optimal_policy)\n",
    "\n",
    "\n",
    "#Print Policy Path\n",
    "print()\n",
    "print(\"\\nPolicy Graph\\n\")\n",
    "printpolicytablecliff(q_optimal_policy)\n",
    "\n",
    "\n",
    "#Learned Path\n",
    "print()\n",
    "print(\"\\nPost-Learning Path and Reward\\n\")\n",
    "env.reset()\n",
    "import time\n",
    "time.sleep(1)\n",
    "cumreward=0\n",
    "next_state, reward, is_done, info = env.step(q_optimal_policy[36])\n",
    "cumreward+=reward\n",
    "gridworld_qlearning_optimalstring=\"\"\n",
    "while not is_done:\n",
    "    gridworld_qlearning_optimalstring+=f\"Moving to state {next_state}, cumulative reward {cumreward}\\n\"\n",
    "    next_state, reward, is_done, info = env.step(q_optimal_policy[next_state])\n",
    "    cumreward+=reward\n",
    "gridworld_qlearning_optimalstring+=f\"Goal 47 reached with cumulative reward of {cumreward}\"\n",
    "print(gridworld_qlearning_optimalstring)\n",
    "env.reset()"
   ]
  },
  {
   "cell_type": "code",
   "execution_count": 1261,
   "metadata": {
    "id": "MPG64gMe-U6z"
   },
   "outputs": [],
   "source": [
    "# run this cell if you do not have the matplotlib library\n",
    "# !pip install matplotlib\n",
    "import matplotlib.pyplot as plt"
   ]
  },
  {
   "cell_type": "code",
   "execution_count": 1262,
   "metadata": {
    "id": "81Km5lRY-U6z"
   },
   "outputs": [],
   "source": [
    "def plot_rate(episode_length, total_reward_episode, title):\n",
    "    fig, ax = plt.subplots(1, 2, figsize=(12, 6))\n",
    "    ax[0].plot(episode_length)\n",
    "    ax[0].set_title(\"Episode Length over time\")\n",
    "    ax[0].set(xlabel=\"Episode\", ylabel=\"Length\")\n",
    "    ax[1].plot(total_reward_episode)\n",
    "    ax[1].set_title(\"Episode reward over time\")\n",
    "    ax[1].set(xlabel=\"Episode reward over time\", ylabel=\"Reward\")\n",
    "    fig.suptitle(title)\n",
    "\n",
    "    plt.show()"
   ]
  },
  {
   "cell_type": "code",
   "execution_count": 1263,
   "metadata": {
    "colab": {
     "base_uri": "https://localhost:8080/",
     "height": 431
    },
    "id": "bJgIKRvl-U6z",
    "outputId": "1ebf1426-42bc-4b1b-9ae0-c559ad126d0b"
   },
   "outputs": [
    {
     "data": {
      "image/png": "[encoded data removed]",
      "text/plain": [
       "<Figure size 864x432 with 2 Axes>"
      ]
     },
     "metadata": {
      "needs_background": "light"
     },
     "output_type": "display_data"
    },
    {
     "data": {
      "image/png": "[encoded data removed]",
      "text/plain": [
       "<Figure size 864x432 with 2 Axes>"
      ]
     },
     "metadata": {
      "needs_background": "light"
     },
     "output_type": "display_data"
    }
   ],
   "source": [
    "plot_rate(sarsa_info[\"length\"], sarsa_info[\"rewards\"], \"GridWorld: SARSA\")\n",
    "plot_rate(q_info[\"length\"], q_info[\"rewards\"], \"GridWorld: Q-Learning\")\n",
    "\n",
    "#Copy for later analysis\n",
    "gridworld_sarsa=sarsa_info.copy()\n",
    "gridworld_qlearning=q_info.copy()\n",
    "gridworld_sarsa_policy=sarsa_optimal_policy.copy()\n",
    "gridworld_qlearning_policy=q_optimal_policy.copy()\n"
   ]
  },
  {
   "cell_type": "markdown",
   "metadata": {
    "id": "Iy5mooah-U6z"
   },
   "source": [
    "## Task 1b: Learning in Windy Grid world"
   ]
  },
  {
   "cell_type": "markdown",
   "metadata": {
    "id": "cqTbJl04-U6z"
   },
   "source": [
    "WindyGridWorld is similar to GridWorld, but with a few differences. You only need to move to the target state. But this time there is a cross-wind across the center of the grid that will push you upwards. In columns 3, 4, 5, and 8 there are winds of strength 1 while in column 6 and 7 there are winds of strength 2. For more details refer Example 6.5 in\n",
    "\n",
    " http://incompleteideas.net/book/RLbook2020.pdf\n",
    "\n",
    " You only need to change the environment and reuse the SARSA and Q-learning algorithms. "
   ]
  },
  {
   "cell_type": "code",
   "execution_count": 1264,
   "metadata": {
    "id": "EcAWoVybW_vB"
   },
   "outputs": [],
   "source": [
    "import numpy as np\n",
    "import sys\n",
    "from gym.envs.toy_text import discrete\n",
    "\n",
    "UP, RIGHT, DOWN, LEFT = range(4)\n",
    "\n",
    "\n",
    "class WindyGridWorld(discrete.DiscreteEnv):\n",
    "    def __init__(self):\n",
    "        self.shape = (7, 10)\n",
    "        nS = self.shape[0] * self.shape[1]\n",
    "        nA = 4\n",
    "        winds = np.zeros(self.shape)\n",
    "        winds[:, [3,4,5, 8]] = 1\n",
    "        winds[:, [6, 7]] = 2\n",
    "        self.goal = (3, 7)\n",
    "        # Transition probability calculation from GridWorld\n",
    "        P = {}\n",
    "        for s in range(nS):\n",
    "            position = np.unravel_index(s, self.shape)\n",
    "            P[s] = {a: [] for a in range(nA)}\n",
    "            P[s][UP] = self._calculate_transition_prob(position, [-1, 0], winds)            \n",
    "            P[s][DOWN] = self._calculate_transition_prob(position, [1, 0], winds)            \n",
    "            P[s][LEFT] = self._calculate_transition_prob(position, [0, -1], winds)            \n",
    "            P[s][RIGHT] = self._calculate_transition_prob(position, [0, 1], winds)\n",
    "        # Starting position (3, 0)\n",
    "        initial_s = np.zeros(nS)\n",
    "        initial_s[np.ravel_multi_index((3,0), self.shape)] = 1.0\n",
    "        super(WindyGridWorld, self).__init__(nS, nA, P, initial_s)\n",
    "\n",
    "    def _calculate_transition_prob(self, current, move, winds):\n",
    "        # Transition probability for a position landed on is 1.0, new_state calculated\n",
    "        new_position = np.array(current) + np.array(move) + np.array([-1, 0]) * winds[(tuple(current))]\n",
    "        new_position = self._limit_coordinates(new_position).astype(int)\n",
    "        new_state = np.ravel_multi_index(tuple(new_position), self.shape)\n",
    "        is_done = tuple(new_position) == self.goal\n",
    "        return [(1.0, new_state, -1, is_done)]\n",
    "\n",
    "    def _limit_coordinates(self, coord):\n",
    "        for i in range(2):\n",
    "            coord[i] = min(coord[i], self.shape[i] - 1)\n",
    "            coord[i] = max(0, coord[i])\n",
    "        return coord\n",
    "\n",
    "    def render(self):\n",
    "        outfile = sys.stdout\n",
    "        for s in range(self.nS):\n",
    "            position = np.unravel_index(s, self.shape)\n",
    "            if self.s == s:\n",
    "                output = \" x \"\n",
    "            elif position == self.goal:\n",
    "                output = \" T \"\n",
    "            else:\n",
    "                output = \" o \"\n",
    "            if position[1] == 0:\n",
    "                output = output.lstrip()\n",
    "            if position[1] == self.shape[1] - 1:\n",
    "                output = output.rstrip()\n",
    "                output += \"\\n\"\n",
    "            outfile.write(output)\n",
    "        outfile.write(\"\\n\")"
   ]
  },
  {
   "cell_type": "code",
   "execution_count": 1265,
   "metadata": {
    "colab": {
     "base_uri": "https://localhost:8080/"
    },
    "id": "tUCXL-gk-U60",
    "outputId": "310f0bde-d520-4f0f-b815-a66739c4be4f"
   },
   "outputs": [
    {
     "name": "stdout",
     "output_type": "stream",
     "text": [
      "o  o  o  o  o  o  o  o  o  o\n",
      "o  o  o  o  o  o  o  o  o  o\n",
      "o  o  o  o  o  o  o  o  o  o\n",
      "x  o  o  o  o  o  o  T  o  o\n",
      "o  o  o  o  o  o  o  o  o  o\n",
      "o  o  o  o  o  o  o  o  o  o\n",
      "o  o  o  o  o  o  o  o  o  o\n",
      "\n"
     ]
    }
   ],
   "source": [
    "#Windy Grid World environment\n",
    "env = WindyGridWorld()\n",
    "env.reset()\n",
    "env.render()"
   ]
  },
  {
   "cell_type": "code",
   "execution_count": 1266,
   "metadata": {
    "colab": {
     "base_uri": "https://localhost:8080/"
    },
    "id": "JcvSpYzl-U60",
    "outputId": "d62e5998-5e36-4c68-e78d-277424e4e2fa"
   },
   "outputs": [
    {
     "name": "stdout",
     "output_type": "stream",
     "text": [
      "Number of actions:  4\n",
      "Number of states:  70\n"
     ]
    }
   ],
   "source": [
    "num_actions = env.action_space.n \n",
    "num_states = env.observation_space.n \n",
    "\n",
    "print(\"Number of actions: \", num_actions)\n",
    "print(\"Number of states: \", num_states)"
   ]
  },
  {
   "cell_type": "markdown",
   "metadata": {
    "id": "9spUFI_a-U60"
   },
   "source": [
    "Play around with different learning rates epsilons, and Q initializations to see what is best."
   ]
  },
  {
   "cell_type": "code",
   "execution_count": 1267,
   "metadata": {
    "id": "0cwHcpwq-U60"
   },
   "outputs": [],
   "source": [
    "# Initialize values \n",
    "num_episodes = 1000\n",
    "lr = 0.3\n",
    "epsilon = 1\n",
    "exploration_decreasing_decay = 0.005\n",
    "min_exploration_proba = 0.01\n",
    "\n",
    "max_steps_per_episode = 500\n"
   ]
  },
  {
   "cell_type": "code",
   "execution_count": 1268,
   "metadata": {
    "id": "NTDrGMlz-U60"
   },
   "outputs": [],
   "source": [
    "# Initialize Q function - a simplified version is used here \n",
    "# in reality the number of states may be unknown and all states may not be reachable \n",
    "\n",
    "# hint: use num_states as the key to a dictionary of lists\n",
    "\n",
    "new_dict = {new_list: [0 for x in range(num_actions)] for new_list in range(num_states)}\n",
    "\n",
    "Q = new_dict"
   ]
  },
  {
   "cell_type": "markdown",
   "metadata": {},
   "source": [
    "### Print Policy Table (Windy) "
   ]
  },
  {
   "cell_type": "code",
   "execution_count": 1269,
   "metadata": {},
   "outputs": [],
   "source": [
    "def printpolicytablewindy(policy):\n",
    "    for k,v in policy.items():\n",
    "        if k==10 or k==20 or k==30 or k==40 or k==50 or k==60:\n",
    "            print()\n",
    "        if v==3:\n",
    "            print(\"LEFT\", end = ' ')\n",
    "        if v==2:\n",
    "            print(\"DOWN\", end = ' ')\n",
    "        if v==1:\n",
    "            print(\"RIGH\", end = ' ')\n",
    "        if v==0:\n",
    "            print(\" UP \", end = ' ')"
   ]
  },
  {
   "cell_type": "code",
   "execution_count": null,
   "metadata": {},
   "outputs": [],
   "source": []
  },
  {
   "cell_type": "code",
   "execution_count": 1270,
   "metadata": {
    "colab": {
     "base_uri": "https://localhost:8080/",
     "height": 322
    },
    "id": "VhORioCy-U60",
    "outputId": "53aca886-7cd8-4978-8bfe-58a3c4f38f5c"
   },
   "outputs": [
    {
     "name": "stderr",
     "output_type": "stream",
     "text": [
      "100%|████████████████████████████████████████| 1000/1000 [00:03<00:00, 308.16it/s]\n"
     ]
    },
    {
     "name": "stdout",
     "output_type": "stream",
     "text": [
      "\n",
      " WindyGridWorld SARSA Optimal policy: \n",
      " {0: 3, 1: 0, 2: 1, 3: 1, 4: 1, 5: 1, 6: 1, 7: 1, 8: 1, 9: 2, 10: 0, 11: 2, 12: 2, 13: 1, 14: 1, 15: 1, 16: 1, 17: 2, 18: 1, 19: 2, 20: 1, 21: 1, 22: 1, 23: 1, 24: 1, 25: 1, 26: 1, 27: 1, 28: 1, 29: 2, 30: 1, 31: 2, 32: 2, 33: 3, 34: 1, 35: 1, 36: 1, 37: 0, 38: 1, 39: 2, 40: 1, 41: 1, 42: 1, 43: 1, 44: 1, 45: 1, 46: 0, 47: 2, 48: 3, 49: 3, 50: 1, 51: 1, 52: 0, 53: 1, 54: 1, 55: 0, 56: 0, 57: 2, 58: 1, 59: 0, 60: 1, 61: 1, 62: 1, 63: 0, 64: 0, 65: 0, 66: 0, 67: 0, 68: 1, 69: 0}\n",
      "\n",
      "\n",
      "Policy Graph\n",
      "\n",
      "LEFT  UP  RIGH RIGH RIGH RIGH RIGH RIGH RIGH DOWN \n",
      " UP  DOWN DOWN RIGH RIGH RIGH RIGH DOWN RIGH DOWN \n",
      "RIGH RIGH RIGH RIGH RIGH RIGH RIGH RIGH RIGH DOWN \n",
      "RIGH DOWN DOWN LEFT RIGH RIGH RIGH  UP  RIGH DOWN \n",
      "RIGH RIGH RIGH RIGH RIGH RIGH  UP  DOWN LEFT LEFT \n",
      "RIGH RIGH  UP  RIGH RIGH  UP   UP  DOWN RIGH  UP  \n",
      "RIGH RIGH RIGH  UP   UP   UP   UP   UP  RIGH  UP  \n",
      "\n",
      "Post-Learning Path and Reward\n",
      "\n",
      "Moving to state 31, cumulative reward -1\n",
      "Moving to state 41, cumulative reward -2\n",
      "Moving to state 42, cumulative reward -3\n",
      "Moving to state 43, cumulative reward -4\n",
      "Moving to state 34, cumulative reward -5\n",
      "Moving to state 25, cumulative reward -6\n",
      "Moving to state 16, cumulative reward -7\n",
      "Moving to state 7, cumulative reward -8\n",
      "Moving to state 8, cumulative reward -9\n",
      "Moving to state 9, cumulative reward -10\n",
      "Moving to state 19, cumulative reward -11\n",
      "Moving to state 29, cumulative reward -12\n",
      "Moving to state 39, cumulative reward -13\n",
      "Moving to state 49, cumulative reward -14\n",
      "Moving to state 48, cumulative reward -15\n",
      "Goal 37 reached with cumulative reward of -16\n"
     ]
    },
    {
     "data": {
      "text/plain": [
       "30"
      ]
     },
     "execution_count": 1270,
     "metadata": {},
     "output_type": "execute_result"
    }
   ],
   "source": [
    "new_dict = {new_list: [0 for x in range(num_actions)] for new_list in range(num_states)}\n",
    "Q = new_dict\n",
    "\n",
    "\n",
    "optimal_sarsa_Q, sarsa_optimal_policy, sarsa_info = sarsa(env, Q, num_actions, num_episodes, epsilon, lr)\n",
    "print(\"\\n WindyGridWorld SARSA Optimal policy: \\n\", sarsa_optimal_policy)\n",
    "\n",
    "#Print Policy Path\n",
    "print()\n",
    "print(\"\\nPolicy Graph\\n\")\n",
    "printpolicytablewindy(sarsa_optimal_policy)\n",
    "\n",
    "\n",
    "#Learned Path\n",
    "print()\n",
    "print(\"\\nPost-Learning Path and Reward\\n\")\n",
    "env.reset()\n",
    "import time\n",
    "time.sleep(1)\n",
    "cumreward=0\n",
    "next_state, reward, is_done, info = env.step(sarsa_optimal_policy[30])\n",
    "cumreward+=reward\n",
    "windyworld_sarsa_optimalstring=\"\"\n",
    "while not is_done:\n",
    "    windyworld_sarsa_optimalstring+=f\"Moving to state {next_state}, cumulative reward {cumreward}\\n\"\n",
    "    next_state, reward, is_done, info = env.step(sarsa_optimal_policy[next_state])\n",
    "    cumreward+=reward\n",
    "windyworld_sarsa_optimalstring+=f\"Goal 37 reached with cumulative reward of {cumreward}\"\n",
    "print(windyworld_sarsa_optimalstring)\n",
    "env.reset()"
   ]
  },
  {
   "cell_type": "code",
   "execution_count": 1271,
   "metadata": {
    "colab": {
     "base_uri": "https://localhost:8080/"
    },
    "id": "g1OIhN6h-U60",
    "outputId": "9b102e74-1eba-47a0-f690-3969e6ddad4f"
   },
   "outputs": [
    {
     "name": "stderr",
     "output_type": "stream",
     "text": [
      "100%|████████████████████████████████████████| 1000/1000 [00:02<00:00, 399.11it/s]\n"
     ]
    },
    {
     "name": "stdout",
     "output_type": "stream",
     "text": [
      "\n",
      " WindyGridWorld Q-Learning Optimal policy: \n",
      " {0: 3, 1: 1, 2: 1, 3: 1, 4: 1, 5: 1, 6: 1, 7: 1, 8: 1, 9: 2, 10: 1, 11: 1, 12: 1, 13: 1, 14: 1, 15: 1, 16: 1, 17: 1, 18: 1, 19: 2, 20: 1, 21: 1, 22: 1, 23: 1, 24: 1, 25: 1, 26: 1, 27: 1, 28: 1, 29: 2, 30: 1, 31: 1, 32: 1, 33: 1, 34: 1, 35: 1, 36: 1, 37: 0, 38: 1, 39: 2, 40: 2, 41: 1, 42: 1, 43: 1, 44: 1, 45: 1, 46: 0, 47: 2, 48: 3, 49: 3, 50: 1, 51: 1, 52: 1, 53: 1, 54: 1, 55: 0, 56: 0, 57: 3, 58: 3, 59: 3, 60: 1, 61: 1, 62: 2, 63: 1, 64: 0, 65: 0, 66: 0, 67: 0, 68: 2, 69: 2}\n",
      "\n",
      "\n",
      "Policy Graph\n",
      "\n",
      "LEFT RIGH RIGH RIGH RIGH RIGH RIGH RIGH RIGH DOWN \n",
      "RIGH RIGH RIGH RIGH RIGH RIGH RIGH RIGH RIGH DOWN \n",
      "RIGH RIGH RIGH RIGH RIGH RIGH RIGH RIGH RIGH DOWN \n",
      "RIGH RIGH RIGH RIGH RIGH RIGH RIGH  UP  RIGH DOWN \n",
      "DOWN RIGH RIGH RIGH RIGH RIGH  UP  DOWN LEFT LEFT \n",
      "RIGH RIGH RIGH RIGH RIGH  UP   UP  LEFT LEFT LEFT \n",
      "RIGH RIGH DOWN RIGH  UP   UP   UP   UP  DOWN DOWN \n",
      "\n",
      "Post-Learning Path and Reward\n",
      "\n",
      "Moving to state 31, cumulative reward -1\n",
      "Moving to state 32, cumulative reward -2\n",
      "Moving to state 33, cumulative reward -3\n",
      "Moving to state 24, cumulative reward -4\n",
      "Moving to state 15, cumulative reward -5\n",
      "Moving to state 6, cumulative reward -6\n",
      "Moving to state 7, cumulative reward -7\n",
      "Moving to state 8, cumulative reward -8\n",
      "Moving to state 9, cumulative reward -9\n",
      "Moving to state 19, cumulative reward -10\n",
      "Moving to state 29, cumulative reward -11\n",
      "Moving to state 39, cumulative reward -12\n",
      "Moving to state 49, cumulative reward -13\n",
      "Moving to state 48, cumulative reward -14\n",
      "Goal 37 reached with cumulative reward of -15\n"
     ]
    }
   ],
   "source": [
    "new_dict = {new_list: [0 for x in range(num_actions)] for new_list in range(num_states)}\n",
    "Q = new_dict\n",
    "\n",
    "\n",
    "optimal_Q, q_optimal_policy, q_info = q_learning(env, Q, num_actions, num_episodes, epsilon, lr)\n",
    "print(\"\\n WindyGridWorld Q-Learning Optimal policy: \\n\", q_optimal_policy)\n",
    "\n",
    "#Print Policy Path\n",
    "print()\n",
    "print(\"\\nPolicy Graph\\n\")\n",
    "printpolicytablewindy(q_optimal_policy)\n",
    "\n",
    "\n",
    "#Learned Path\n",
    "print()\n",
    "print(\"\\nPost-Learning Path and Reward\\n\")\n",
    "env.reset()\n",
    "import time\n",
    "time.sleep(1)\n",
    "cumreward=0\n",
    "next_state, reward, is_done, info = env.step(q_optimal_policy[36])\n",
    "cumreward+=reward\n",
    "windyworld_qlearning_optimalstring=\"\"\n",
    "while not is_done:\n",
    "    windyworld_qlearning_optimalstring+=f\"Moving to state {next_state}, cumulative reward {cumreward}\\n\"\n",
    "    next_state, reward, is_done, info = env.step(q_optimal_policy[next_state])\n",
    "    cumreward+=reward\n",
    "windyworld_qlearning_optimalstring+=f\"Goal 37 reached with cumulative reward of {cumreward}\"\n",
    "print(windyworld_qlearning_optimalstring)\n"
   ]
  },
  {
   "cell_type": "code",
   "execution_count": 1272,
   "metadata": {
    "id": "S8I_ef80-U60"
   },
   "outputs": [
    {
     "data": {
      "image/png": "[encoded data removed]",
      "text/plain": [
       "<Figure size 864x432 with 2 Axes>"
      ]
     },
     "metadata": {
      "needs_background": "light"
     },
     "output_type": "display_data"
    },
    {
     "data": {
      "image/png": "[encoded data removed]",
      "text/plain": [
       "<Figure size 864x432 with 2 Axes>"
      ]
     },
     "metadata": {
      "needs_background": "light"
     },
     "output_type": "display_data"
    }
   ],
   "source": [
    "plot_rate(sarsa_info[\"length\"], sarsa_info[\"rewards\"], \"WindyWorld: SARSA\")\n",
    "plot_rate(q_info[\"length\"], q_info[\"rewards\"], \"WindyWorld: Q-Learning\")\n",
    "\n",
    "#Copy for later analysis\n",
    "windyworld_sarsa=sarsa_info.copy()\n",
    "windyworld_qlearning=q_info.copy()\n",
    "windyworld_sarsa_policy=sarsa_optimal_policy.copy()\n",
    "windyworld_qlearning_policy=q_optimal_policy.copy()\n"
   ]
  },
  {
   "cell_type": "markdown",
   "metadata": {
    "id": "CLc1fVhM-U60"
   },
   "source": [
    "# Task 2: Analysis (Comparison of Q-learning and SARSA learning algorithms)\n",
    "\n",
    "1. Comment on the number of episodes required to converge to the optimal policy for both environments. \n",
    "       \n",
    "2. Discuss the differences in the reward graphs.  \n",
    "\n",
    "3. Calculate the average return across the episodes for each environment. It gives a measure of the performance of the algorithm while learning (i.e., online performance).  \n",
    "\n",
    "4. Calculate the return after convergence. It gives you a measure of the performance after the learning is completed (i.e., offline performance). \n",
    "\n",
    "5. Briefly summarize your results.\n",
    " \n",
    " It is advisable to rerun the algorithm a few times to get a clearer understanding of the algorithms."
   ]
  },
  {
   "cell_type": "markdown",
   "metadata": {},
   "source": [
    "## 1. Comment on the number of episodes required to converge to the optimal policy for both environments. "
   ]
  },
  {
   "cell_type": "markdown",
   "metadata": {},
   "source": [
    "To make the graphs easier to see, we smoothed the values over 30 episodes in the code snippet below. Please refer to the 2 graphs below this code snippet. \n",
    "\n",
    "\n",
    "### A. Cliff Walking\n",
    "Both Sarsa and Q-Learning converges to their respective policies after 180 episodes, from the graphs below in 1 and 2. We started with an epsilon of 1 and tapered this down with each Episode. \n",
    "\n",
    "However, it is important to note that they both converge to different policies. From the policy plot above, Sarsa takes the safer path all the way at the top to move to the right, while Q-Learning hugs the cliff on the third row of the grid to move to the right (which is the actual Optimal Policy that maximizes rewards). \n",
    "\n",
    "Hence, Sarsa takes about 150 episodes to get to an average of 18 in Episode Length (as it is taking a slightly longer route) for its policy (less optimal), while Q-Learning takes the same 150 episodes to get to an average of 15 in Episode Length for its policy (its curve is below that of Sarsa).  \n",
    "\n",
    "\n",
    "\n",
    "### B. Windy GridWorld\n",
    "Both Sarsa and Q-Learning converges to their respective policies after approximately 380 environments. Both performed quite similarly, with an almost identical curve downwards. Q-Learning was marginally faster initially, but there was no significant difference. \n"
   ]
  },
  {
   "cell_type": "code",
   "execution_count": 1273,
   "metadata": {},
   "outputs": [
    {
     "data": {
      "image/png": "[encoded data removed]",
      "text/plain": [
       "<Figure size 432x288 with 1 Axes>"
      ]
     },
     "metadata": {
      "needs_background": "light"
     },
     "output_type": "display_data"
    },
    {
     "data": {
      "image/png": "[encoded data removed]",
      "text/plain": [
       "<Figure size 432x288 with 1 Axes>"
      ]
     },
     "metadata": {
      "needs_background": "light"
     },
     "output_type": "display_data"
    }
   ],
   "source": [
    "# Moving average code taken from https://stackoverflow.com/questions/14313510/how-to-calculate-rolling-moving-average-using-python-numpy-scipy\n",
    "# Plot code taken from https://www.geeksforgeeks.org/plot-multiple-lines-in-matplotlib/\n",
    "\n",
    "def moving_average(x, w):\n",
    "    return np.convolve(x, np.ones(w), 'valid') / w\n",
    "\n",
    "# Cliff Walking- Creating a smoothed line over 30 episodes\n",
    "gridworld_sarsa_smoothed_epilength=[]\n",
    "gridworld_sarsa_smoothed_epilength= moving_average(gridworld_sarsa[\"length\"], 30)\n",
    "\n",
    "gridworld_qlearning_smoothed_epilength=[]\n",
    "gridworld_qlearning_smoothed_epilength= moving_average(gridworld_qlearning[\"length\"], 30)\n",
    "\n",
    "plt.plot(gridworld_sarsa_smoothed_epilength, label = \"SARSA\")\n",
    "plt.plot(gridworld_qlearning_smoothed_epilength, label = \"QLearning\")\n",
    "plt.legend()\n",
    "plt.title(\"Cliff Walking- Episode Length Over Time (smoothed)\")\n",
    "plt.show()\n",
    "\n",
    "\n",
    "# Windy GridWorld- Creating a smoothed line over 30 episodes\n",
    "windyworld_sarsa_smoothed_epilength=[]\n",
    "windyworld_sarsa_smoothed_epilength= moving_average(windyworld_sarsa[\"length\"], 30)\n",
    "\n",
    "windyworld_qlearning_smoothed_epilength=[]\n",
    "windyworld_qlearning_smoothed_epilength= moving_average(windyworld_qlearning[\"length\"], 30)\n",
    "\n",
    "plt.plot(windyworld_sarsa_smoothed_epilength, label = \"SARSA\")\n",
    "plt.plot(windyworld_qlearning_smoothed_epilength, label = \"QLearning\")\n",
    "plt.legend()\n",
    "plt.title(\"Windy GridWorld- Episode Length Over Time (smoothed)\")\n",
    "plt.show()\n"
   ]
  },
  {
   "cell_type": "code",
   "execution_count": null,
   "metadata": {},
   "outputs": [],
   "source": []
  },
  {
   "cell_type": "markdown",
   "metadata": {},
   "source": [
    "## 2. Discuss the differences in the reward graphs."
   ]
  },
  {
   "cell_type": "markdown",
   "metadata": {},
   "source": [
    "To make the graphs easier to see, we smoothed the values over 25 episodes in the code snippet below. For the reward graphs, we hid values less than -200 in Cliff Walking, and values less than -80 for Windy GridWorld. This tends to happen at the start where the agent is exploring the environment.\n",
    "\n",
    "Please refer to the 2 graphs below this code snippet. \n",
    "\n",
    "\n",
    "\n",
    "### A. Cliff Walking\n",
    "From the graph below, Q-Learning has a lower average episode reward after convergence (approx -50), than Sarsa, which hovers around -25. \n",
    "\n",
    "As mentioned above, Sarsa converges to a path at the top, which is the safer path, while Q-Learning finds the optimal policy on the third row which hugs the cliff.\n",
    "\n",
    "This means that while Q-Learning learns the optimal policy and aims for the shortest episode length (quickest route), it has a chance of falling into the cliff when exploring (eg, in the top part of Epsilon Greedy policy), getting an immediate -100 and having to start over, sometimes more than once. Hence, its line is almost always below Sarsa throughout the smoothed graph.\n",
    "\n",
    "In the unsmoothed graph at the top of the report, we can observe the heavy variance difference in Q-Learning and Sarsa, with sharp drops happening when it falls into the cliff and tries again (sometimes more than once), giving rewards of well below -100 to -200 in those episodes.  \n",
    "\n",
    "While Sarsa tries for a longer and non-optimal path, it does not bear this heavy a risk of falling into the cliff, hence its average rewards tend to be higher, with lower variance.\n",
    "\n",
    "\n",
    "\n",
    "### B. Windy GridWorld\n",
    "\n",
    "Both Sarsa and Q-Learning seemed to perform very similarly after converging. Q-Learning performed marginally better, but only by 1-2 points. Q-Learning also took a marginally faster path down to convergence, with its graph seen as below the line of Sarsa initially. \n"
   ]
  },
  {
   "cell_type": "code",
   "execution_count": 1274,
   "metadata": {},
   "outputs": [
    {
     "data": {
      "image/png": "[encoded data removed]",
      "text/plain": [
       "<Figure size 432x288 with 1 Axes>"
      ]
     },
     "metadata": {
      "needs_background": "light"
     },
     "output_type": "display_data"
    },
    {
     "data": {
      "image/png": "[encoded data removed]",
      "text/plain": [
       "<Figure size 432x288 with 1 Axes>"
      ]
     },
     "metadata": {
      "needs_background": "light"
     },
     "output_type": "display_data"
    }
   ],
   "source": [
    "# Cliff Walking- Creating a smoothed line over 25 episodes\n",
    "gridworld_sarsa_smoothed_rewards=[]\n",
    "gridworld_sarsa_smoothed_rewards= moving_average(gridworld_sarsa[\"rewards\"], 25)\n",
    "\n",
    "gridworld_qlearning_smoothed_rewards=[]\n",
    "gridworld_qlearning_smoothed_rewards= moving_average(gridworld_qlearning[\"rewards\"], 25)\n",
    "\n",
    "plt.plot(gridworld_sarsa_smoothed_rewards, label = \"SARSA\")\n",
    "plt.plot(gridworld_qlearning_smoothed_rewards, label = \"QLearning\")\n",
    "plt.legend()\n",
    "plt.title(\"Cliff Walking- Episode reward over time (smoothed)\")\n",
    "plt.ylim((-200))\n",
    "plt.show()\n",
    "\n",
    "\n",
    "# Windy GridWorld- Creating a smoothed line over 25 episodes\n",
    "windyworld_sarsa_smoothed_rewards=[]\n",
    "windyworld_sarsa_smoothed_rewards= moving_average(windyworld_sarsa[\"rewards\"], 25)\n",
    "\n",
    "windyworld_qlearning_smoothed_rewards=[]\n",
    "windyworld_qlearning_smoothed_rewards= moving_average(windyworld_qlearning[\"rewards\"], 25)\n",
    "\n",
    "plt.plot(windyworld_sarsa_smoothed_rewards, label = \"SARSA\")\n",
    "plt.plot(windyworld_qlearning_smoothed_rewards, label = \"QLearning\")\n",
    "plt.legend()\n",
    "plt.title(\"Windy GridWorld- Episode reward over time (smoothed)\")\n",
    "plt.ylim((-80))\n",
    "plt.show()"
   ]
  },
  {
   "cell_type": "code",
   "execution_count": null,
   "metadata": {},
   "outputs": [],
   "source": []
  },
  {
   "cell_type": "markdown",
   "metadata": {},
   "source": [
    "## 3. Calculate the average return across the episodes for each environment. It gives a measure of the performance of the algorithm while learning (i.e., online performance).  \n",
    "\n",
    "### A. Cliff Walking\n",
    "\n",
    "As calculated below, the average return for Sarsa during the entire duration of learning is -122.998, while the average return for Sarsa during the last 50 iteration is -24.76.\n",
    "\n",
    "For Q-Learning, the average return during the entire duration of learning is -246.704, while the average return for Sarsa during the last 50 iteration is -58.86. \n",
    "\n",
    "This is consistent with what we saw above, where Q-Learning has a lower average return when learning due to it falling off the cliff in some episodes. \n",
    "\n",
    "\n",
    "### B. Windy GridWorld\n",
    "As calculated below, the average return for Sarsa during the entire duration of learning is -56.217, while the average return for Sarsa during the last 100 iteration is -16.34.\n",
    "\n",
    "For Q-Learning, the average return during the entire duration of learning is -48.589, while the average return for Sarsa during the last 100 iteration is -15.19. \n",
    "\n",
    "This is consistent with what we saw above, where Q-Learning has a very slightly higher average return when learning. Both Sarsa and Q-Learning eventually took the same path, going right initially, being pushed up by the wind, further right, down, and left to reach the goal state. \n"
   ]
  },
  {
   "cell_type": "code",
   "execution_count": 1275,
   "metadata": {},
   "outputs": [
    {
     "name": "stdout",
     "output_type": "stream",
     "text": [
      "Average Return, Cliff Walking- SARSA, across every 50 episodes, for 500 episodes:\n",
      "50 : mean espiode reward:  -849.0\n",
      "100 : mean espiode reward:  -148.38\n",
      "150 : mean espiode reward:  -56.14\n",
      "200 : mean espiode reward:  -27.62\n",
      "250 : mean espiode reward:  -19.82\n",
      "300 : mean espiode reward:  -22.94\n",
      "350 : mean espiode reward:  -23.04\n",
      "400 : mean espiode reward:  -38.54\n",
      "450 : mean espiode reward:  -19.74\n",
      "500 : mean espiode reward:  -24.76\n",
      "\n",
      "Average Return, Cliff Walking- SARSA, across all 500 episodes\n",
      "-122.998\n",
      "\n",
      "Average Return, Cliff Walking- Q-Learning, across every 50 episodes, for 500 episodes:\n",
      "50 : mean espiode reward:  -1443.8\n",
      "100 : mean espiode reward:  -410.14\n",
      "150 : mean espiode reward:  -220.08\n",
      "200 : mean espiode reward:  -92.76\n",
      "250 : mean espiode reward:  -52.38\n",
      "300 : mean espiode reward:  -52.12\n",
      "350 : mean espiode reward:  -50.34\n",
      "400 : mean espiode reward:  -40.18\n",
      "450 : mean espiode reward:  -46.38\n",
      "500 : mean espiode reward:  -58.86\n",
      "\n",
      "Average Return, Cliff Walking- Q-Learning, across all 500 episodes\n",
      "-246.704\n",
      "\n",
      "\n",
      "\n",
      "Average Return, Windy GridWorld- SARSA, across every 100 episodes, for 1000 episodes:\n",
      "100 : mean espiode reward:  -339.86\n",
      "200 : mean espiode reward:  -71.15\n",
      "300 : mean espiode reward:  -27.75\n",
      "400 : mean espiode reward:  -21.12\n",
      "500 : mean espiode reward:  -17.94\n",
      "600 : mean espiode reward:  -18.01\n",
      "700 : mean espiode reward:  -17.25\n",
      "800 : mean espiode reward:  -16.49\n",
      "900 : mean espiode reward:  -16.26\n",
      "1000 : mean espiode reward:  -16.34\n",
      "\n",
      "Average Return, Windy GridWorld- SARSA, across all 1000 episodes\n",
      "-56.217\n",
      "\n",
      "Average Return, Windy GridWorld- Q-Learning, across every 100 episodes, for 1000 episodes:\n",
      "100 : mean espiode reward:  -285.31\n",
      "200 : mean espiode reward:  -58.03\n",
      "300 : mean espiode reward:  -28.27\n",
      "400 : mean espiode reward:  -18.9\n",
      "500 : mean espiode reward:  -17.46\n",
      "600 : mean espiode reward:  -16.16\n",
      "700 : mean espiode reward:  -15.68\n",
      "800 : mean espiode reward:  -15.49\n",
      "900 : mean espiode reward:  -15.4\n",
      "1000 : mean espiode reward:  -15.19\n",
      "\n",
      "Average Return, Windy GridWorld- Q-Learning, across all 1000 episodes\n",
      "-48.589\n",
      "\n"
     ]
    }
   ],
   "source": [
    "def averagereturn(iterations,steps,array):\n",
    "    for i in range(iterations):\n",
    "        print((i+1)*steps,\": mean espiode reward: \", np.mean(array[steps*i:steps*(i+1)]))\n",
    "\n",
    "\n",
    "# Average Return- Cliff Walking- SARSA (ie, 0 to 50, 51-100, etc)\n",
    "print(\"Average Return, Cliff Walking- SARSA, across every 50 episodes, for 500 episodes:\")\n",
    "averagereturn(10,50,gridworld_sarsa[\"rewards\"])\n",
    "print()\n",
    "\n",
    "print(\"Average Return, Cliff Walking- SARSA, across all 500 episodes\")\n",
    "print(np.mean(gridworld_sarsa[\"rewards\"]))\n",
    "print()\n",
    "\n",
    "\n",
    "# Average Return- Cliff Walking- Q-Learning\n",
    "print(\"Average Return, Cliff Walking- Q-Learning, across every 50 episodes, for 500 episodes:\")\n",
    "averagereturn(10,50,gridworld_qlearning[\"rewards\"])\n",
    "print()\n",
    "\n",
    "print(\"Average Return, Cliff Walking- Q-Learning, across all 500 episodes\")\n",
    "print(np.mean(gridworld_qlearning[\"rewards\"]))\n",
    "print()\n",
    "\n",
    "print()\n",
    "print()\n",
    "\n",
    "# Average Return- Windy GridWorld- SARSA (ie, 0 to 100, 101-200, etc)\n",
    "print(\"Average Return, Windy GridWorld- SARSA, across every 100 episodes, for 1000 episodes:\")\n",
    "averagereturn(10,100,windyworld_sarsa[\"rewards\"])\n",
    "print()\n",
    "\n",
    "print(\"Average Return, Windy GridWorld- SARSA, across all 1000 episodes\")\n",
    "print(np.mean(windyworld_sarsa[\"rewards\"]))\n",
    "print()\n",
    "\n",
    "\n",
    "# Average Return- Windy GridWorld- Q-Learning\n",
    "print(\"Average Return, Windy GridWorld- Q-Learning, across every 100 episodes, for 1000 episodes:\")\n",
    "averagereturn(10,100,windyworld_qlearning[\"rewards\"])\n",
    "print()\n",
    "\n",
    "print(\"Average Return, Windy GridWorld- Q-Learning, across all 1000 episodes\")\n",
    "print(np.mean(windyworld_qlearning[\"rewards\"]))\n",
    "print()\n",
    "\n",
    "          "
   ]
  },
  {
   "cell_type": "code",
   "execution_count": null,
   "metadata": {},
   "outputs": [],
   "source": []
  },
  {
   "cell_type": "markdown",
   "metadata": {},
   "source": [
    "## 4. Calculate the return after convergence. It gives you a measure of the performance after the learning is completed (i.e., offline performance). \n",
    "\n",
    "### A. Cliff Walking\n",
    "As calculated below, the return for Sarsa after convergence is -17, while the return for Q-Learning is -13.\n",
    "\n",
    "As discussed, Sarsa has learnt the longer route at the top, while Q-Learning has found the actual optimal policy on the third row to get from left to right. Differences in results are discussed in Part 5 below. \n",
    "\n",
    "\n",
    "### B. Windy GridWorld\n",
    "\n",
    "As calculated below, the average return for Sarsa after convergence is -16, while the average return for Q-Learning is -15.\n",
    "\n",
    "As discussed, both Sarsa and Q-Learning eventually found almost identical policies which are the optimal policy (-15) or very close to the optimal policy (-16 or -17), taking the route to the right, up to the top row, to the extreme right, down to the fifth row, and left to the goal. Differences in results are discussed in Part 5 below. \n"
   ]
  },
  {
   "cell_type": "code",
   "execution_count": 1276,
   "metadata": {},
   "outputs": [
    {
     "name": "stdout",
     "output_type": "stream",
     "text": [
      "Cliff Walking Return After Convergence (Sarsa)\n",
      "Moving to state 24, cumulative reward -1\n",
      "Moving to state 12, cumulative reward -2\n",
      "Moving to state 0, cumulative reward -3\n",
      "Moving to state 1, cumulative reward -4\n",
      "Moving to state 2, cumulative reward -5\n",
      "Moving to state 3, cumulative reward -6\n",
      "Moving to state 4, cumulative reward -7\n",
      "Moving to state 5, cumulative reward -8\n",
      "Moving to state 6, cumulative reward -9\n",
      "Moving to state 7, cumulative reward -10\n",
      "Moving to state 8, cumulative reward -11\n",
      "Moving to state 9, cumulative reward -12\n",
      "Moving to state 10, cumulative reward -13\n",
      "Moving to state 11, cumulative reward -14\n",
      "Moving to state 23, cumulative reward -15\n",
      "Moving to state 35, cumulative reward -16\n",
      "Goal 47 reached with cumulative reward of -17\n",
      "\n",
      "Cliff Walking Return After Convergence (Q-Learning)\n",
      "Moving to state 24, cumulative reward -1\n",
      "Moving to state 25, cumulative reward -2\n",
      "Moving to state 26, cumulative reward -3\n",
      "Moving to state 27, cumulative reward -4\n",
      "Moving to state 28, cumulative reward -5\n",
      "Moving to state 29, cumulative reward -6\n",
      "Moving to state 30, cumulative reward -7\n",
      "Moving to state 31, cumulative reward -8\n",
      "Moving to state 32, cumulative reward -9\n",
      "Moving to state 33, cumulative reward -10\n",
      "Moving to state 34, cumulative reward -11\n",
      "Moving to state 35, cumulative reward -12\n",
      "Goal 47 reached with cumulative reward of -13\n",
      "\n",
      "\n",
      "Windy GridWorld Return After Convergence (Sarsa)\n",
      "Moving to state 31, cumulative reward -1\n",
      "Moving to state 41, cumulative reward -2\n",
      "Moving to state 42, cumulative reward -3\n",
      "Moving to state 43, cumulative reward -4\n",
      "Moving to state 34, cumulative reward -5\n",
      "Moving to state 25, cumulative reward -6\n",
      "Moving to state 16, cumulative reward -7\n",
      "Moving to state 7, cumulative reward -8\n",
      "Moving to state 8, cumulative reward -9\n",
      "Moving to state 9, cumulative reward -10\n",
      "Moving to state 19, cumulative reward -11\n",
      "Moving to state 29, cumulative reward -12\n",
      "Moving to state 39, cumulative reward -13\n",
      "Moving to state 49, cumulative reward -14\n",
      "Moving to state 48, cumulative reward -15\n",
      "Goal 37 reached with cumulative reward of -16\n",
      "\n",
      "Windy GridWorld Return After Convergence (Q-Learning)\n",
      "Moving to state 31, cumulative reward -1\n",
      "Moving to state 32, cumulative reward -2\n",
      "Moving to state 33, cumulative reward -3\n",
      "Moving to state 24, cumulative reward -4\n",
      "Moving to state 15, cumulative reward -5\n",
      "Moving to state 6, cumulative reward -6\n",
      "Moving to state 7, cumulative reward -7\n",
      "Moving to state 8, cumulative reward -8\n",
      "Moving to state 9, cumulative reward -9\n",
      "Moving to state 19, cumulative reward -10\n",
      "Moving to state 29, cumulative reward -11\n",
      "Moving to state 39, cumulative reward -12\n",
      "Moving to state 49, cumulative reward -13\n",
      "Moving to state 48, cumulative reward -14\n",
      "Goal 37 reached with cumulative reward of -15\n"
     ]
    }
   ],
   "source": [
    "# Windy GridWorld Return After Convergence\n",
    "print(\"Cliff Walking Return After Convergence (Sarsa)\")\n",
    "print(gridworld_sarsa_optimalstring)\n",
    "print()\n",
    "print(\"Cliff Walking Return After Convergence (Q-Learning)\")\n",
    "print(gridworld_qlearning_optimalstring)\n",
    "print()\n",
    "print()\n",
    "# Windy GridWorld Return After Convergence\n",
    "print(\"Windy GridWorld Return After Convergence (Sarsa)\")\n",
    "print(windyworld_sarsa_optimalstring)\n",
    "print()\n",
    "print(\"Windy GridWorld Return After Convergence (Q-Learning)\")\n",
    "print(windyworld_qlearning_optimalstring)"
   ]
  },
  {
   "cell_type": "code",
   "execution_count": null,
   "metadata": {},
   "outputs": [],
   "source": []
  },
  {
   "cell_type": "markdown",
   "metadata": {},
   "source": [
    "## 5. Briefly summarize your results.\n",
    "\n",
    "### Difference in Sarsa and Q-Learning (Risky vs Non-Risky Scenarios)\n",
    "a) For Cliff Walking, Sarsa outperforms Q-Learning during the learning process (reward of -122.998 vs -246.704 respectively, or -24.76 vs -58.86 in the last 50 episodes), however, after learning, Q-Learning found the optimal policy and the path with the highest reward (-13), versus Sarsa which found the safer path (-17).\n",
    "\n",
    "b) This illustrates an important point, if we are trying to quickly iterate and learn in a space where mistakes are costly like in the case of the cliff which has a -100 penalty, then Sarsa would find a more conservative approach during the learning process. For example, a scenario where self driving cars which can hit someone while it is still training, and a car could be very expensive to fix, could be an example of costly risk during learning. \n",
    "\n",
    "c) This is because for Sarsa, it is sensitive to the chances that could occur for tiles closer to the cliff (following Epsilon Greedy), while Q-Learning would just update the maximum Q values and head for the optimal route.   \n",
    "\n",
    "d) Hence, we should prefer Sarsa in such an environment.\n",
    "\n",
    "e) However, even in this scenario, Q-Learning would still outperform in the end after learning is complete, with a lower reward. This assumes that post-learning, our environment would still be fully deterministic. If not, taking the risker path this close to the cliff may still be dangerous, and may not be optimal.  \n",
    "\n",
    "\n",
    "f) However, if we would like to iterate fast in environments which do not have severe costs or risk penalties, then Q-Learning presents a faster and better choice for us, both during learning and post-learning. \n",
    "\n",
    "g) We can see this in the Windy GridWorld example, which does not have severe penalties during learning. The agent does not get hit with a dramatic negative reward, nor are there tiles where it needs to return all the way to the start. \n",
    "\n",
    "h) In this scenario, Q-Learning outperforms slightly during the learning (reward of -48.589 vs -56.217 for Q-Learning and Sarsa respectively), and also outperforms post-learning (reward of -15 vs -16 respectively). It gets to the optimal policy slightly quicker than Sarsa as well. \n",
    "\n",
    "i) Hence, we could prefer Q-Learning in such an environment, as it would give us better rewards during learning (ie, no major risks or heavy cost of mistakes), while also giving us the optimal path post-learning, instead of the safe path.\n",
    "\n",
    "j) For example, if we are training a robot entirely in a simulation, and not the real world, there would not be any drastic penalties involve of taking a bad paths. \n",
    "\n",
    "\n",
    "\n"
   ]
  },
  {
   "cell_type": "markdown",
   "metadata": {},
   "source": [
    "### Learning Rate, Epsilon and Initial Q-Values Selection\n",
    "\n",
    "#### Learning Rate \n",
    "The team ran various iterations of Learning Rates using the above code, and have the following results. \n",
    "\n",
    "On balance, the team selecting a LR of 0.3 for both scenarios. \n",
    "\n",
    "For Cliff Walking, all LRs gave the same path post-learning. LRs of 0.6 and 0.1 took slightly more time to converge in some runs, and less time in other runs, though the differences is neglibible.\n",
    "\n",
    "For Windy GridWorld, a LR of 0.6 took slightly longer to converge in some runs, and slightly quicker in other runs, with a slightly less optimal policy given for Sarsa. 0.1 took longer to converge in both cases, though it did give a slightly better policy for Sarsa. \n",
    "\n",
    "\n",
    "Cliff Walking- Sarsa\n",
    "- Current LR (0.3)- Average Reward during Learning (-122.998)- Average Reward After Learning (-17)\n",
    "- Experiment LR (0.6)- Average Reward during Learning (-166.854)- Average Reward After Learning (-17)\n",
    "- Experiment LR (0.1)- Average Reward during Learning (-120.216)- Average Reward After Learning (-17)\n",
    "\n",
    "Cliff Walking- Q-Learning\n",
    "- Current LR (0.3)- Average Reward during Learning (-246.704)- Average Reward After Learning (-13)\n",
    "- Experiment LR (0.6)- Average Reward during Learning (-245.626)- Average Reward After Learning (-13)\n",
    "- Experiment LR (0.1)- Average Reward during Learning (-254.532)- Average Reward After Learning (-13)\n",
    "\n",
    "\n",
    "Windy GridWorld- Sarsa\n",
    "- Current LR (0.3)- Average Reward during Learning (-56.217)- Average Reward After Learning (-16)\n",
    "- Experiment LR (0.6)- Average Reward during Learning (-62.497)- Average Reward After Learning (-17)\n",
    "- Experiment LR (0.1)- Average Reward during Learning (-67.486)- Average Reward After Learning (-15)\n",
    "\n",
    "Windy GridWorld- Q-Learning\n",
    "- Current LR (0.3)- Average Reward during Learning (-48.589)- Average Reward After Learning (-15)\n",
    "- Experiment LR (0.6)- Average Reward during Learning (-45.48)- Average Reward After Learning (-15)\n",
    "- Experiment LR (0.1)- Average Reward during Learning (-57.653)- Average Reward After Learning (-15)\n",
    "\n",
    "\n",
    "#### Epsilon\n",
    "The team experimented with various Epsilon values, from 0.01, to 0.1 and 0.3. Eventually, the team decided to start Epsilon with 1 and reduce this gradually for a better result. \n",
    "\n",
    "For Cliff Walking, this started at 1, and reduced until it hit 0.1. For Windy GridWorld, the optimum value was by starting at 1, and ending at 0.01 so both Sarsa and Q-Learning could start exploiting aggressively towards the end.\n",
    "\n",
    "\n",
    "#### Initial Q-Values\n",
    "\n",
    "The team tried several potential Q-Values, comparing the results and also the graphs, there was no significant difference for the values tried. On balance, the team decided to start with all 0 for the Q-Values. \n",
    "\n",
    "\n",
    "Cliff Walking- Sarsa\n",
    "- Current Q-Values (All 0)- Average Reward during Learning (-122.998)- Average Reward After Learning (-17)\n",
    "- Experiment Q-Values (All -5)- Average Reward during Learning (-130.474)- Average Reward After Learning (-17)\n",
    "- Experiment Q-Values (All -500)- Average Reward during Learning (-120.064)- Average Reward After Learning (-17)\n",
    "\n",
    "\n",
    "Cliff Walking- Q-Learning\n",
    "- Current Q-Values (All 0)- Average Reward during Learning (-246.704)- Average Reward After Learning (-13)\n",
    "- Experiment Q-Values (All -5)- Average Reward during Learning (-257.554)- Average Reward After Learning (-13)\n",
    "- Experiment Q-Values (All -500)- Average Reward during Learning (-225.994)- Average Reward After Learning (-13)\n",
    "\n",
    "\n",
    "Windy GridWorld- Sarsa\n",
    "- Current Q-Values (All 0)- Average Reward during Learning (-56.217)- Average Reward After Learning (-16)\n",
    "- Experiment Q-Values (All -5)- Average Reward during Learning (-59.77)- Average Reward After Learning (-16)\n",
    "- Experiment Q-Values (All -500)- Average Reward during Learning (-58.504)- Average Reward After Learning (-16)\n",
    "\n",
    "Windy GridWorld- Q-Learning\n",
    "- Current Q-Values (All 0)- Average Reward during Learning (-48.589)- Average Reward After Learning (-15)\n",
    "- Experiment Q-Values (All -5)- Average Reward during Learning (-47.935)- Average Reward After Learning (-15)\n",
    "- Experiment Q-Values (All -500)- Average Reward during Learning (-46.059)- Average Reward After Learning (-15)\n"
   ]
  },
  {
   "cell_type": "code",
   "execution_count": null,
   "metadata": {},
   "outputs": [],
   "source": []
  }
 ],
 "metadata": {
  "colab": {
   "collapsed_sections": [],
   "provenance": [],
   "toc_visible": true
  },
  "kernelspec": {
   "display_name": "Python 3 (ipykernel)",
   "language": "python",
   "name": "python3"
  },
  "language_info": {
   "codemirror_mode": {
    "name": "ipython",
    "version": 3
   },
   "file_extension": ".py",
   "mimetype": "text/x-python",
   "name": "python",
   "nbconvert_exporter": "python",
   "pygments_lexer": "ipython3",
   "version": "3.9.12"
  },
  "vscode": {
   "interpreter": {
    "hash": "9903bfc570e74e13454075f1f113ae8a5bc0cd8b51e84ac8c67812478a777a9f"
   }
  }
 },
 "nbformat": 4,
 "nbformat_minor": 1
}
